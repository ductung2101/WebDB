{
 "cells": [
  {
   "cell_type": "code",
   "execution_count": 1,
   "metadata": {},
   "outputs": [],
   "source": [
    "import pandas as pd\n",
    "import numpy as np\n",
    "import datetime\n",
    "import pytz"
   ]
  },
  {
   "cell_type": "code",
   "execution_count": 2,
   "metadata": {},
   "outputs": [
    {
     "name": "stderr",
     "output_type": "stream",
     "text": [
      "/home/octav/anaconda3/lib/python3.7/site-packages/IPython/core/interactiveshell.py:3063: DtypeWarning: Columns (19,21) have mixed types.Specify dtype option on import or set low_memory=False.\n",
      "  interactivity=interactivity, compiler=compiler, result=result)\n"
     ]
    }
   ],
   "source": [
    "dfp = pd.read_csv(\"../president_primary_polls.csv\")\n",
    "dfc = pd.read_csv(\"coverage.csv\").drop(columns = [\"Unnamed: 0\"])"
   ]
  },
  {
   "cell_type": "code",
   "execution_count": 3,
   "metadata": {},
   "outputs": [],
   "source": [
    "dfp[\"create_date\"] = pd.to_datetime(dfp[\"created_at\"], infer_datetime_format = True)\n",
    "dfp[\"create_week\"] = (dfp['create_date'] - pd.to_timedelta(dfp['create_date'].dt.dayofweek, unit='d') - np.timedelta64(1, 'D')).dt.normalize()\n",
    "dfp_subset = dfp[dfp[\"party\"] == \"DEM\"]"
   ]
  },
  {
   "cell_type": "code",
   "execution_count": 4,
   "metadata": {},
   "outputs": [],
   "source": [
    "dfp_pivot = dfp[dfp[\"party\"] == \"DEM\"].pivot_table(values = \"pct\", index = \"create_week\", columns=\"answer\",\n",
    "                                                aggfunc = np.mean).fillna(0).iloc[-7:]"
   ]
  },
  {
   "cell_type": "code",
   "execution_count": 5,
   "metadata": {},
   "outputs": [
    {
     "data": {
      "text/html": [
       "<div>\n",
       "<style scoped>\n",
       "    .dataframe tbody tr th:only-of-type {\n",
       "        vertical-align: middle;\n",
       "    }\n",
       "\n",
       "    .dataframe tbody tr th {\n",
       "        vertical-align: top;\n",
       "    }\n",
       "\n",
       "    .dataframe thead th {\n",
       "        text-align: right;\n",
       "    }\n",
       "</style>\n",
       "<table border=\"1\" class=\"dataframe\">\n",
       "  <thead>\n",
       "    <tr style=\"text-align: right;\">\n",
       "      <th></th>\n",
       "      <th>created_at</th>\n",
       "      <th>create_date</th>\n",
       "      <th>create_week</th>\n",
       "    </tr>\n",
       "  </thead>\n",
       "  <tbody>\n",
       "    <tr>\n",
       "      <th>0</th>\n",
       "      <td>2/24/20 15:14</td>\n",
       "      <td>2020-02-24 15:14:00</td>\n",
       "      <td>2020-02-23</td>\n",
       "    </tr>\n",
       "    <tr>\n",
       "      <th>1</th>\n",
       "      <td>2/24/20 15:14</td>\n",
       "      <td>2020-02-24 15:14:00</td>\n",
       "      <td>2020-02-23</td>\n",
       "    </tr>\n",
       "    <tr>\n",
       "      <th>2</th>\n",
       "      <td>2/24/20 15:14</td>\n",
       "      <td>2020-02-24 15:14:00</td>\n",
       "      <td>2020-02-23</td>\n",
       "    </tr>\n",
       "    <tr>\n",
       "      <th>3</th>\n",
       "      <td>2/24/20 15:14</td>\n",
       "      <td>2020-02-24 15:14:00</td>\n",
       "      <td>2020-02-23</td>\n",
       "    </tr>\n",
       "    <tr>\n",
       "      <th>4</th>\n",
       "      <td>2/24/20 15:14</td>\n",
       "      <td>2020-02-24 15:14:00</td>\n",
       "      <td>2020-02-23</td>\n",
       "    </tr>\n",
       "    <tr>\n",
       "      <th>...</th>\n",
       "      <td>...</td>\n",
       "      <td>...</td>\n",
       "      <td>...</td>\n",
       "    </tr>\n",
       "    <tr>\n",
       "      <th>17326</th>\n",
       "      <td>12/27/18 03:50</td>\n",
       "      <td>2018-12-27 03:50:00</td>\n",
       "      <td>2018-12-23</td>\n",
       "    </tr>\n",
       "    <tr>\n",
       "      <th>17327</th>\n",
       "      <td>12/27/18 03:50</td>\n",
       "      <td>2018-12-27 03:50:00</td>\n",
       "      <td>2018-12-23</td>\n",
       "    </tr>\n",
       "    <tr>\n",
       "      <th>17328</th>\n",
       "      <td>12/27/18 03:50</td>\n",
       "      <td>2018-12-27 03:50:00</td>\n",
       "      <td>2018-12-23</td>\n",
       "    </tr>\n",
       "    <tr>\n",
       "      <th>17329</th>\n",
       "      <td>12/27/18 03:50</td>\n",
       "      <td>2018-12-27 03:50:00</td>\n",
       "      <td>2018-12-23</td>\n",
       "    </tr>\n",
       "    <tr>\n",
       "      <th>17330</th>\n",
       "      <td>12/27/18 03:50</td>\n",
       "      <td>2018-12-27 03:50:00</td>\n",
       "      <td>2018-12-23</td>\n",
       "    </tr>\n",
       "  </tbody>\n",
       "</table>\n",
       "<p>17331 rows × 3 columns</p>\n",
       "</div>"
      ],
      "text/plain": [
       "           created_at         create_date create_week\n",
       "0       2/24/20 15:14 2020-02-24 15:14:00  2020-02-23\n",
       "1       2/24/20 15:14 2020-02-24 15:14:00  2020-02-23\n",
       "2       2/24/20 15:14 2020-02-24 15:14:00  2020-02-23\n",
       "3       2/24/20 15:14 2020-02-24 15:14:00  2020-02-23\n",
       "4       2/24/20 15:14 2020-02-24 15:14:00  2020-02-23\n",
       "...               ...                 ...         ...\n",
       "17326  12/27/18 03:50 2018-12-27 03:50:00  2018-12-23\n",
       "17327  12/27/18 03:50 2018-12-27 03:50:00  2018-12-23\n",
       "17328  12/27/18 03:50 2018-12-27 03:50:00  2018-12-23\n",
       "17329  12/27/18 03:50 2018-12-27 03:50:00  2018-12-23\n",
       "17330  12/27/18 03:50 2018-12-27 03:50:00  2018-12-23\n",
       "\n",
       "[17331 rows x 3 columns]"
      ]
     },
     "execution_count": 5,
     "metadata": {},
     "output_type": "execute_result"
    }
   ],
   "source": [
    "dfp[[\"created_at\", \"create_date\", \"create_week\"]]"
   ]
  },
  {
   "cell_type": "code",
   "execution_count": 8,
   "metadata": {},
   "outputs": [
    {
     "name": "stdout",
     "output_type": "stream",
     "text": [
      "Biden\n",
      "Buttigieg\n",
      "Gabbard\n",
      "Klobuchar\n",
      "Sanders\n",
      "Steyer\n",
      "Warren\n",
      "Bloomberg\n",
      "Bennet\n",
      "Patrick\n",
      "Yang\n",
      "Booker\n",
      "Delaney\n"
     ]
    }
   ],
   "source": [
    "candidates = dfp_subset[\"answer\"].unique()\n",
    "can_selected = []\n",
    "for can in candidates:\n",
    "    if (dfp_pivot[can] == 0).mean() < 0.5 and dfp_pivot[can].mean() > 0.1:\n",
    "        print (can)\n",
    "        can_selected.append(can)"
   ]
  },
  {
   "cell_type": "code",
   "execution_count": 9,
   "metadata": {},
   "outputs": [
    {
     "data": {
      "text/plain": [
       "0         True\n",
       "1         True\n",
       "2         True\n",
       "3         True\n",
       "4         True\n",
       "         ...  \n",
       "17326     True\n",
       "17327     True\n",
       "17328    False\n",
       "17329     True\n",
       "17330    False\n",
       "Name: answer, Length: 17331, dtype: bool"
      ]
     },
     "execution_count": 9,
     "metadata": {},
     "output_type": "execute_result"
    }
   ],
   "source": [
    "dfp[\"answer\"].isin(can_selected)"
   ]
  },
  {
   "cell_type": "code",
   "execution_count": 13,
   "metadata": {},
   "outputs": [
    {
     "data": {
      "text/plain": [
       "<matplotlib.axes._subplots.AxesSubplot at 0x7f7bbf7ffed0>"
      ]
     },
     "execution_count": 13,
     "metadata": {},
     "output_type": "execute_result"
    },
    {
     "data": {
      "image/png": "[encoded data removed]",
      "text/plain": [
       "<Figure size 432x288 with 1 Axes>"
      ]
     },
     "metadata": {
      "needs_background": "light"
     },
     "output_type": "display_data"
    }
   ],
   "source": [
    "dfc.groupby(by = [\"Date\"]).sum().plot()"
   ]
  },
  {
   "cell_type": "code",
   "execution_count": 14,
   "metadata": {},
   "outputs": [],
   "source": [
    "dfc_pivot = dfc.pivot_table(values = \"Value\", index = \"Date\", columns=\"Candidate\",\n",
    "                                                aggfunc = np.sum).fillna(0).iloc[-7:]"
   ]
  },
  {
   "cell_type": "code",
   "execution_count": 15,
   "metadata": {},
   "outputs": [],
   "source": [
    "start_date = datetime.datetime.strptime(\"2020-01-01\", \"%Y-%m-%d\")\n",
    "end_date = datetime.datetime.strptime(\"2020-02-15\", \"%Y-%m-%d\")"
   ]
  },
  {
   "cell_type": "code",
   "execution_count": 16,
   "metadata": {},
   "outputs": [
    {
     "data": {
      "text/plain": [
       "array([ True,  True,  True,  True,  True,  True,  True])"
      ]
     },
     "execution_count": 16,
     "metadata": {},
     "output_type": "execute_result"
    }
   ],
   "source": [
    "dfp_pivot.index > start_date"
   ]
  },
  {
   "cell_type": "code",
   "execution_count": 17,
   "metadata": {},
   "outputs": [
    {
     "data": {
      "text/plain": [
       "0       2020-02-24 15:14:00\n",
       "1       2020-02-24 15:14:00\n",
       "2       2020-02-24 15:14:00\n",
       "3       2020-02-24 15:14:00\n",
       "4       2020-02-24 15:14:00\n",
       "                ...        \n",
       "17326   2018-12-27 03:50:00\n",
       "17327   2018-12-27 03:50:00\n",
       "17328   2018-12-27 03:50:00\n",
       "17329   2018-12-27 03:50:00\n",
       "17330   2018-12-27 03:50:00\n",
       "Name: create_date, Length: 17331, dtype: datetime64[ns]"
      ]
     },
     "execution_count": 17,
     "metadata": {},
     "output_type": "execute_result"
    }
   ],
   "source": [
    "dfp[\"create_date\"]"
   ]
  },
  {
   "cell_type": "code",
   "execution_count": 31,
   "metadata": {},
   "outputs": [
    {
     "data": {
      "text/plain": [
       "'2020-02-23'"
      ]
     },
     "execution_count": 31,
     "metadata": {},
     "output_type": "execute_result"
    }
   ],
   "source": [
    "dfp[\"create_week\"].dt.strftime(\"%Y-%m-%d\")"
   ]
  },
  {
   "cell_type": "code",
   "execution_count": 18,
   "metadata": {},
   "outputs": [
    {
     "data": {
      "text/plain": [
       "datetime.datetime(2020, 1, 1, 0, 0)"
      ]
     },
     "execution_count": 18,
     "metadata": {},
     "output_type": "execute_result"
    }
   ],
   "source": [
    "start_date = dfp[\"create_week\"].min()\n",
    "end_date = dfp[\"create_week\"].max()"
   ]
  },
  {
   "cell_type": "code",
   "execution_count": 21,
   "metadata": {},
   "outputs": [],
   "source": [
    "dfc[\"Date\"] = pd.to_datetime(dfc[\"Date\"])"
   ]
  },
  {
   "cell_type": "code",
   "execution_count": 23,
   "metadata": {},
   "outputs": [
    {
     "data": {
      "text/html": [
       "<div>\n",
       "<style scoped>\n",
       "    .dataframe tbody tr th:only-of-type {\n",
       "        vertical-align: middle;\n",
       "    }\n",
       "\n",
       "    .dataframe tbody tr th {\n",
       "        vertical-align: top;\n",
       "    }\n",
       "\n",
       "    .dataframe thead th {\n",
       "        text-align: right;\n",
       "    }\n",
       "</style>\n",
       "<table border=\"1\" class=\"dataframe\">\n",
       "  <thead>\n",
       "    <tr style=\"text-align: right;\">\n",
       "      <th></th>\n",
       "      <th>Value</th>\n",
       "      <th>answer</th>\n",
       "    </tr>\n",
       "    <tr>\n",
       "      <th>Candidate</th>\n",
       "      <th></th>\n",
       "      <th></th>\n",
       "    </tr>\n",
       "  </thead>\n",
       "  <tbody>\n",
       "    <tr>\n",
       "      <th>Bennet</th>\n",
       "      <td>0.025131</td>\n",
       "      <td>0.515672</td>\n",
       "    </tr>\n",
       "    <tr>\n",
       "      <th>Biden</th>\n",
       "      <td>1.845782</td>\n",
       "      <td>22.473614</td>\n",
       "    </tr>\n",
       "    <tr>\n",
       "      <th>Bloomberg</th>\n",
       "      <td>2.113221</td>\n",
       "      <td>11.590240</td>\n",
       "    </tr>\n",
       "    <tr>\n",
       "      <th>Booker</th>\n",
       "      <td>0.044011</td>\n",
       "      <td>1.622857</td>\n",
       "    </tr>\n",
       "    <tr>\n",
       "      <th>Buttigieg</th>\n",
       "      <td>0.769329</td>\n",
       "      <td>12.374198</td>\n",
       "    </tr>\n",
       "    <tr>\n",
       "      <th>Delaney</th>\n",
       "      <td>0.010522</td>\n",
       "      <td>0.363291</td>\n",
       "    </tr>\n",
       "    <tr>\n",
       "      <th>Gabbard</th>\n",
       "      <td>0.031721</td>\n",
       "      <td>2.173668</td>\n",
       "    </tr>\n",
       "    <tr>\n",
       "      <th>Klobuchar</th>\n",
       "      <td>0.420869</td>\n",
       "      <td>6.917425</td>\n",
       "    </tr>\n",
       "    <tr>\n",
       "      <th>Patrick</th>\n",
       "      <td>0.069642</td>\n",
       "      <td>0.350000</td>\n",
       "    </tr>\n",
       "    <tr>\n",
       "      <th>Sanders</th>\n",
       "      <td>2.257269</td>\n",
       "      <td>24.617244</td>\n",
       "    </tr>\n",
       "    <tr>\n",
       "      <th>Steyer</th>\n",
       "      <td>0.170925</td>\n",
       "      <td>3.560654</td>\n",
       "    </tr>\n",
       "    <tr>\n",
       "      <th>Warren</th>\n",
       "      <td>0.976174</td>\n",
       "      <td>14.133951</td>\n",
       "    </tr>\n",
       "    <tr>\n",
       "      <th>Yang</th>\n",
       "      <td>0.097435</td>\n",
       "      <td>3.699940</td>\n",
       "    </tr>\n",
       "  </tbody>\n",
       "</table>\n",
       "</div>"
      ],
      "text/plain": [
       "              Value     answer\n",
       "Candidate                     \n",
       "Bennet     0.025131   0.515672\n",
       "Biden      1.845782  22.473614\n",
       "Bloomberg  2.113221  11.590240\n",
       "Booker     0.044011   1.622857\n",
       "Buttigieg  0.769329  12.374198\n",
       "Delaney    0.010522   0.363291\n",
       "Gabbard    0.031721   2.173668\n",
       "Klobuchar  0.420869   6.917425\n",
       "Patrick    0.069642   0.350000\n",
       "Sanders    2.257269  24.617244\n",
       "Steyer     0.170925   3.560654\n",
       "Warren     0.976174  14.133951\n",
       "Yang       0.097435   3.699940"
      ]
     },
     "execution_count": 23,
     "metadata": {},
     "output_type": "execute_result"
    }
   ],
   "source": [
    "df_agg = dfc[dfc[\"Date\"] > start_date].groupby(\"Candidate\").mean()\n",
    "df_agg[\"answer\"] = dfp[dfp[\"create_week\"] > \"2020-01-01\"].groupby(\"answer\")[\"pct\"].mean().loc[can_selected]\n",
    "df_agg"
   ]
  },
  {
   "cell_type": "code",
   "execution_count": 27,
   "metadata": {},
   "outputs": [
    {
     "data": {
      "text/html": [
       "<div>\n",
       "<style scoped>\n",
       "    .dataframe tbody tr th:only-of-type {\n",
       "        vertical-align: middle;\n",
       "    }\n",
       "\n",
       "    .dataframe tbody tr th {\n",
       "        vertical-align: top;\n",
       "    }\n",
       "\n",
       "    .dataframe thead th {\n",
       "        text-align: right;\n",
       "    }\n",
       "</style>\n",
       "<table border=\"1\" class=\"dataframe\">\n",
       "  <thead>\n",
       "    <tr style=\"text-align: right;\">\n",
       "      <th></th>\n",
       "      <th></th>\n",
       "      <th>Value</th>\n",
       "    </tr>\n",
       "    <tr>\n",
       "      <th>Candidate</th>\n",
       "      <th>Date</th>\n",
       "      <th></th>\n",
       "    </tr>\n",
       "  </thead>\n",
       "  <tbody>\n",
       "    <tr>\n",
       "      <th rowspan=\"5\" valign=\"top\">Bennet</th>\n",
       "      <th>2020-01-05</th>\n",
       "      <td>0.1482</td>\n",
       "    </tr>\n",
       "    <tr>\n",
       "      <th>2020-01-12</th>\n",
       "      <td>0.4929</td>\n",
       "    </tr>\n",
       "    <tr>\n",
       "      <th>2020-01-19</th>\n",
       "      <td>0.1922</td>\n",
       "    </tr>\n",
       "    <tr>\n",
       "      <th>2020-01-26</th>\n",
       "      <td>0.0860</td>\n",
       "    </tr>\n",
       "    <tr>\n",
       "      <th>2020-02-02</th>\n",
       "      <td>0.3230</td>\n",
       "    </tr>\n",
       "    <tr>\n",
       "      <th>...</th>\n",
       "      <th>...</th>\n",
       "      <td>...</td>\n",
       "    </tr>\n",
       "    <tr>\n",
       "      <th rowspan=\"5\" valign=\"top\">Yang</th>\n",
       "      <th>2020-01-26</th>\n",
       "      <td>0.6558</td>\n",
       "    </tr>\n",
       "    <tr>\n",
       "      <th>2020-02-02</th>\n",
       "      <td>1.6206</td>\n",
       "    </tr>\n",
       "    <tr>\n",
       "      <th>2020-02-09</th>\n",
       "      <td>1.4793</td>\n",
       "    </tr>\n",
       "    <tr>\n",
       "      <th>2020-02-16</th>\n",
       "      <td>0.2789</td>\n",
       "    </tr>\n",
       "    <tr>\n",
       "      <th>2020-02-23</th>\n",
       "      <td>0.2731</td>\n",
       "    </tr>\n",
       "  </tbody>\n",
       "</table>\n",
       "<p>104 rows × 1 columns</p>\n",
       "</div>"
      ],
      "text/plain": [
       "                       Value\n",
       "Candidate Date              \n",
       "Bennet    2020-01-05  0.1482\n",
       "          2020-01-12  0.4929\n",
       "          2020-01-19  0.1922\n",
       "          2020-01-26  0.0860\n",
       "          2020-02-02  0.3230\n",
       "...                      ...\n",
       "Yang      2020-01-26  0.6558\n",
       "          2020-02-02  1.6206\n",
       "          2020-02-09  1.4793\n",
       "          2020-02-16  0.2789\n",
       "          2020-02-23  0.2731\n",
       "\n",
       "[104 rows x 1 columns]"
      ]
     },
     "execution_count": 27,
     "metadata": {},
     "output_type": "execute_result"
    }
   ],
   "source": [
    "dfc[dfc[\"Date\"] > \"2020-01-01\"].groupby([\"Candidate\", \"Date\"]).sum()"
   ]
  },
  {
   "cell_type": "code",
   "execution_count": 29,
   "metadata": {},
   "outputs": [
    {
     "data": {
      "text/plain": [
       "0       2009-05-31\n",
       "1       2009-06-07\n",
       "2       2009-06-14\n",
       "3       2009-06-21\n",
       "4       2009-06-28\n",
       "           ...    \n",
       "65632   2020-01-26\n",
       "65633   2020-02-02\n",
       "65634   2020-02-09\n",
       "65635   2020-02-16\n",
       "65636   2020-02-23\n",
       "Name: Date, Length: 65637, dtype: datetime64[ns]"
      ]
     },
     "execution_count": 29,
     "metadata": {},
     "output_type": "execute_result"
    }
   ],
   "source": [
    "dfc[\"Date\"]"
   ]
  },
  {
   "cell_type": "code",
   "execution_count": null,
   "metadata": {},
   "outputs": [],
   "source": []
  },
  {
   "cell_type": "code",
   "execution_count": 108,
   "metadata": {},
   "outputs": [
    {
     "data": {
      "text/html": [
       "<div>\n",
       "<style scoped>\n",
       "    .dataframe tbody tr th:only-of-type {\n",
       "        vertical-align: middle;\n",
       "    }\n",
       "\n",
       "    .dataframe tbody tr th {\n",
       "        vertical-align: top;\n",
       "    }\n",
       "\n",
       "    .dataframe thead th {\n",
       "        text-align: right;\n",
       "    }\n",
       "</style>\n",
       "<table border=\"1\" class=\"dataframe\">\n",
       "  <thead>\n",
       "    <tr style=\"text-align: right;\">\n",
       "      <th></th>\n",
       "      <th></th>\n",
       "      <th>pct</th>\n",
       "    </tr>\n",
       "    <tr>\n",
       "      <th>answer</th>\n",
       "      <th>create_week</th>\n",
       "      <th></th>\n",
       "    </tr>\n",
       "  </thead>\n",
       "  <tbody>\n",
       "    <tr>\n",
       "      <th rowspan=\"5\" valign=\"top\">Bennet</th>\n",
       "      <th>2020-01-05</th>\n",
       "      <td>0.500000</td>\n",
       "    </tr>\n",
       "    <tr>\n",
       "      <th>2020-01-12</th>\n",
       "      <td>0.525000</td>\n",
       "    </tr>\n",
       "    <tr>\n",
       "      <th>2020-01-19</th>\n",
       "      <td>0.550000</td>\n",
       "    </tr>\n",
       "    <tr>\n",
       "      <th>2020-01-26</th>\n",
       "      <td>0.572727</td>\n",
       "    </tr>\n",
       "    <tr>\n",
       "      <th>2020-02-02</th>\n",
       "      <td>0.406897</td>\n",
       "    </tr>\n",
       "    <tr>\n",
       "      <th>...</th>\n",
       "      <th>...</th>\n",
       "      <td>...</td>\n",
       "    </tr>\n",
       "    <tr>\n",
       "      <th rowspan=\"5\" valign=\"top\">Yang</th>\n",
       "      <th>2020-01-19</th>\n",
       "      <td>3.964706</td>\n",
       "    </tr>\n",
       "    <tr>\n",
       "      <th>2020-01-26</th>\n",
       "      <td>3.782250</td>\n",
       "    </tr>\n",
       "    <tr>\n",
       "      <th>2020-02-02</th>\n",
       "      <td>3.305556</td>\n",
       "    </tr>\n",
       "    <tr>\n",
       "      <th>2020-02-09</th>\n",
       "      <td>3.578947</td>\n",
       "    </tr>\n",
       "    <tr>\n",
       "      <th>2020-02-16</th>\n",
       "      <td>1.666667</td>\n",
       "    </tr>\n",
       "  </tbody>\n",
       "</table>\n",
       "<p>143 rows × 1 columns</p>\n",
       "</div>"
      ],
      "text/plain": [
       "                         pct\n",
       "answer create_week          \n",
       "Bennet 2020-01-05   0.500000\n",
       "       2020-01-12   0.525000\n",
       "       2020-01-19   0.550000\n",
       "       2020-01-26   0.572727\n",
       "       2020-02-02   0.406897\n",
       "...                      ...\n",
       "Yang   2020-01-19   3.964706\n",
       "       2020-01-26   3.782250\n",
       "       2020-02-02   3.305556\n",
       "       2020-02-09   3.578947\n",
       "       2020-02-16   1.666667\n",
       "\n",
       "[143 rows x 1 columns]"
      ]
     },
     "execution_count": 108,
     "metadata": {},
     "output_type": "execute_result"
    }
   ],
   "source": [
    "dfp[dfp[\"create_week\"] > \"2020-01-01\"].groupby([\"answer\", \"create_week\"])[[\"pct\"]].mean()"
   ]
  },
  {
   "cell_type": "code",
   "execution_count": 110,
   "metadata": {},
   "outputs": [
    {
     "data": {
      "text/plain": [
       "Timestamp('2020-02-23 00:00:00')"
      ]
     },
     "execution_count": 110,
     "metadata": {},
     "output_type": "execute_result"
    }
   ],
   "source": [
    "dfp[\"create_week\"][1]"
   ]
  }
 ],
 "metadata": {
  "kernelspec": {
   "display_name": "Python 3",
   "language": "python",
   "name": "python3"
  },
  "language_info": {
   "codemirror_mode": {
    "name": "ipython",
    "version": 3
   },
   "file_extension": ".py",
   "mimetype": "text/x-python",
   "name": "python",
   "nbconvert_exporter": "python",
   "pygments_lexer": "ipython3",
   "version": "3.7.6"
  }
 },
 "nbformat": 4,
 "nbformat_minor": 4
}
