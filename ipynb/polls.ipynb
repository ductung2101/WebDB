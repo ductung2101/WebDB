{
 "cells": [
  {
   "cell_type": "code",
   "execution_count": 1,
   "metadata": {},
   "outputs": [],
   "source": [
    "import numpy as np\n",
    "import pandas as pd"
   ]
  },
  {
   "cell_type": "markdown",
   "metadata": {},
   "source": [
    "* what are question_id, poll_id, pollster_id? where can we get descriptions for them? would they be useful for us?"
   ]
  },
  {
   "cell_type": "code",
   "execution_count": 4,
   "metadata": {},
   "outputs": [
    {
     "ename": "FileNotFoundError",
     "evalue": "[Errno 2] File b'president_primary_polls.csv' does not exist: b'president_primary_polls.csv'",
     "traceback": [
      "\u001b[1;31m---------------------------------------------------------------------------\u001b[0m",
      "\u001b[1;31mFileNotFoundError\u001b[0m                         Traceback (most recent call last)",
      "\u001b[1;32m<ipython-input-4-81bf62a2ec19>\u001b[0m in \u001b[0;36m<module>\u001b[1;34m\u001b[0m\n\u001b[1;32m----> 1\u001b[1;33m \u001b[0mdf\u001b[0m \u001b[1;33m=\u001b[0m \u001b[0mpd\u001b[0m\u001b[1;33m.\u001b[0m\u001b[0mread_csv\u001b[0m\u001b[1;33m(\u001b[0m\u001b[1;34m\"president_primary_polls.csv\"\u001b[0m\u001b[1;33m)\u001b[0m\u001b[1;33m\u001b[0m\u001b[1;33m\u001b[0m\u001b[0m\n\u001b[0m",
      "\u001b[1;32m~\\Anaconda3\\lib\\site-packages\\pandas\\io\\parsers.py\u001b[0m in \u001b[0;36mparser_f\u001b[1;34m(filepath_or_buffer, sep, delimiter, header, names, index_col, usecols, squeeze, prefix, mangle_dupe_cols, dtype, engine, converters, true_values, false_values, skipinitialspace, skiprows, skipfooter, nrows, na_values, keep_default_na, na_filter, verbose, skip_blank_lines, parse_dates, infer_datetime_format, keep_date_col, date_parser, dayfirst, cache_dates, iterator, chunksize, compression, thousands, decimal, lineterminator, quotechar, quoting, doublequote, escapechar, comment, encoding, dialect, error_bad_lines, warn_bad_lines, delim_whitespace, low_memory, memory_map, float_precision)\u001b[0m\n\u001b[0;32m    683\u001b[0m         )\n\u001b[0;32m    684\u001b[0m \u001b[1;33m\u001b[0m\u001b[0m\n\u001b[1;32m--> 685\u001b[1;33m         \u001b[1;32mreturn\u001b[0m \u001b[0m_read\u001b[0m\u001b[1;33m(\u001b[0m\u001b[0mfilepath_or_buffer\u001b[0m\u001b[1;33m,\u001b[0m \u001b[0mkwds\u001b[0m\u001b[1;33m)\u001b[0m\u001b[1;33m\u001b[0m\u001b[1;33m\u001b[0m\u001b[0m\n\u001b[0m\u001b[0;32m    686\u001b[0m \u001b[1;33m\u001b[0m\u001b[0m\n\u001b[0;32m    687\u001b[0m     \u001b[0mparser_f\u001b[0m\u001b[1;33m.\u001b[0m\u001b[0m__name__\u001b[0m \u001b[1;33m=\u001b[0m \u001b[0mname\u001b[0m\u001b[1;33m\u001b[0m\u001b[1;33m\u001b[0m\u001b[0m\n",
      "\u001b[1;32m~\\Anaconda3\\lib\\site-packages\\pandas\\io\\parsers.py\u001b[0m in \u001b[0;36m_read\u001b[1;34m(filepath_or_buffer, kwds)\u001b[0m\n\u001b[0;32m    455\u001b[0m \u001b[1;33m\u001b[0m\u001b[0m\n\u001b[0;32m    456\u001b[0m     \u001b[1;31m# Create the parser.\u001b[0m\u001b[1;33m\u001b[0m\u001b[1;33m\u001b[0m\u001b[1;33m\u001b[0m\u001b[0m\n\u001b[1;32m--> 457\u001b[1;33m     \u001b[0mparser\u001b[0m \u001b[1;33m=\u001b[0m \u001b[0mTextFileReader\u001b[0m\u001b[1;33m(\u001b[0m\u001b[0mfp_or_buf\u001b[0m\u001b[1;33m,\u001b[0m \u001b[1;33m**\u001b[0m\u001b[0mkwds\u001b[0m\u001b[1;33m)\u001b[0m\u001b[1;33m\u001b[0m\u001b[1;33m\u001b[0m\u001b[0m\n\u001b[0m\u001b[0;32m    458\u001b[0m \u001b[1;33m\u001b[0m\u001b[0m\n\u001b[0;32m    459\u001b[0m     \u001b[1;32mif\u001b[0m \u001b[0mchunksize\u001b[0m \u001b[1;32mor\u001b[0m \u001b[0miterator\u001b[0m\u001b[1;33m:\u001b[0m\u001b[1;33m\u001b[0m\u001b[1;33m\u001b[0m\u001b[0m\n",
      "\u001b[1;32m~\\Anaconda3\\lib\\site-packages\\pandas\\io\\parsers.py\u001b[0m in \u001b[0;36m__init__\u001b[1;34m(self, f, engine, **kwds)\u001b[0m\n\u001b[0;32m    893\u001b[0m             \u001b[0mself\u001b[0m\u001b[1;33m.\u001b[0m\u001b[0moptions\u001b[0m\u001b[1;33m[\u001b[0m\u001b[1;34m\"has_index_names\"\u001b[0m\u001b[1;33m]\u001b[0m \u001b[1;33m=\u001b[0m \u001b[0mkwds\u001b[0m\u001b[1;33m[\u001b[0m\u001b[1;34m\"has_index_names\"\u001b[0m\u001b[1;33m]\u001b[0m\u001b[1;33m\u001b[0m\u001b[1;33m\u001b[0m\u001b[0m\n\u001b[0;32m    894\u001b[0m \u001b[1;33m\u001b[0m\u001b[0m\n\u001b[1;32m--> 895\u001b[1;33m         \u001b[0mself\u001b[0m\u001b[1;33m.\u001b[0m\u001b[0m_make_engine\u001b[0m\u001b[1;33m(\u001b[0m\u001b[0mself\u001b[0m\u001b[1;33m.\u001b[0m\u001b[0mengine\u001b[0m\u001b[1;33m)\u001b[0m\u001b[1;33m\u001b[0m\u001b[1;33m\u001b[0m\u001b[0m\n\u001b[0m\u001b[0;32m    896\u001b[0m \u001b[1;33m\u001b[0m\u001b[0m\n\u001b[0;32m    897\u001b[0m     \u001b[1;32mdef\u001b[0m \u001b[0mclose\u001b[0m\u001b[1;33m(\u001b[0m\u001b[0mself\u001b[0m\u001b[1;33m)\u001b[0m\u001b[1;33m:\u001b[0m\u001b[1;33m\u001b[0m\u001b[1;33m\u001b[0m\u001b[0m\n",
      "\u001b[1;32m~\\Anaconda3\\lib\\site-packages\\pandas\\io\\parsers.py\u001b[0m in \u001b[0;36m_make_engine\u001b[1;34m(self, engine)\u001b[0m\n\u001b[0;32m   1133\u001b[0m     \u001b[1;32mdef\u001b[0m \u001b[0m_make_engine\u001b[0m\u001b[1;33m(\u001b[0m\u001b[0mself\u001b[0m\u001b[1;33m,\u001b[0m \u001b[0mengine\u001b[0m\u001b[1;33m=\u001b[0m\u001b[1;34m\"c\"\u001b[0m\u001b[1;33m)\u001b[0m\u001b[1;33m:\u001b[0m\u001b[1;33m\u001b[0m\u001b[1;33m\u001b[0m\u001b[0m\n\u001b[0;32m   1134\u001b[0m         \u001b[1;32mif\u001b[0m \u001b[0mengine\u001b[0m \u001b[1;33m==\u001b[0m \u001b[1;34m\"c\"\u001b[0m\u001b[1;33m:\u001b[0m\u001b[1;33m\u001b[0m\u001b[1;33m\u001b[0m\u001b[0m\n\u001b[1;32m-> 1135\u001b[1;33m             \u001b[0mself\u001b[0m\u001b[1;33m.\u001b[0m\u001b[0m_engine\u001b[0m \u001b[1;33m=\u001b[0m \u001b[0mCParserWrapper\u001b[0m\u001b[1;33m(\u001b[0m\u001b[0mself\u001b[0m\u001b[1;33m.\u001b[0m\u001b[0mf\u001b[0m\u001b[1;33m,\u001b[0m \u001b[1;33m**\u001b[0m\u001b[0mself\u001b[0m\u001b[1;33m.\u001b[0m\u001b[0moptions\u001b[0m\u001b[1;33m)\u001b[0m\u001b[1;33m\u001b[0m\u001b[1;33m\u001b[0m\u001b[0m\n\u001b[0m\u001b[0;32m   1136\u001b[0m         \u001b[1;32melse\u001b[0m\u001b[1;33m:\u001b[0m\u001b[1;33m\u001b[0m\u001b[1;33m\u001b[0m\u001b[0m\n\u001b[0;32m   1137\u001b[0m             \u001b[1;32mif\u001b[0m \u001b[0mengine\u001b[0m \u001b[1;33m==\u001b[0m \u001b[1;34m\"python\"\u001b[0m\u001b[1;33m:\u001b[0m\u001b[1;33m\u001b[0m\u001b[1;33m\u001b[0m\u001b[0m\n",
      "\u001b[1;32m~\\Anaconda3\\lib\\site-packages\\pandas\\io\\parsers.py\u001b[0m in \u001b[0;36m__init__\u001b[1;34m(self, src, **kwds)\u001b[0m\n\u001b[0;32m   1915\u001b[0m         \u001b[0mkwds\u001b[0m\u001b[1;33m[\u001b[0m\u001b[1;34m\"usecols\"\u001b[0m\u001b[1;33m]\u001b[0m \u001b[1;33m=\u001b[0m \u001b[0mself\u001b[0m\u001b[1;33m.\u001b[0m\u001b[0musecols\u001b[0m\u001b[1;33m\u001b[0m\u001b[1;33m\u001b[0m\u001b[0m\n\u001b[0;32m   1916\u001b[0m \u001b[1;33m\u001b[0m\u001b[0m\n\u001b[1;32m-> 1917\u001b[1;33m         \u001b[0mself\u001b[0m\u001b[1;33m.\u001b[0m\u001b[0m_reader\u001b[0m \u001b[1;33m=\u001b[0m \u001b[0mparsers\u001b[0m\u001b[1;33m.\u001b[0m\u001b[0mTextReader\u001b[0m\u001b[1;33m(\u001b[0m\u001b[0msrc\u001b[0m\u001b[1;33m,\u001b[0m \u001b[1;33m**\u001b[0m\u001b[0mkwds\u001b[0m\u001b[1;33m)\u001b[0m\u001b[1;33m\u001b[0m\u001b[1;33m\u001b[0m\u001b[0m\n\u001b[0m\u001b[0;32m   1918\u001b[0m         \u001b[0mself\u001b[0m\u001b[1;33m.\u001b[0m\u001b[0munnamed_cols\u001b[0m \u001b[1;33m=\u001b[0m \u001b[0mself\u001b[0m\u001b[1;33m.\u001b[0m\u001b[0m_reader\u001b[0m\u001b[1;33m.\u001b[0m\u001b[0munnamed_cols\u001b[0m\u001b[1;33m\u001b[0m\u001b[1;33m\u001b[0m\u001b[0m\n\u001b[0;32m   1919\u001b[0m \u001b[1;33m\u001b[0m\u001b[0m\n",
      "\u001b[1;32mpandas/_libs/parsers.pyx\u001b[0m in \u001b[0;36mpandas._libs.parsers.TextReader.__cinit__\u001b[1;34m()\u001b[0m\n",
      "\u001b[1;32mpandas/_libs/parsers.pyx\u001b[0m in \u001b[0;36mpandas._libs.parsers.TextReader._setup_parser_source\u001b[1;34m()\u001b[0m\n",
      "\u001b[1;31mFileNotFoundError\u001b[0m: [Errno 2] File b'president_primary_polls.csv' does not exist: b'president_primary_polls.csv'"
     ],
     "output_type": "error"
    }
   ],
   "source": [
    "df = pd.read_csv(\"../president_primary_polls.csv\")"
   ]
  },
  {
   "cell_type": "code",
   "execution_count": 1,
   "metadata": {},
   "outputs": [
    {
     "ename": "NameError",
     "evalue": "name 'df' is not defined",
     "traceback": [
      "\u001b[1;31m---------------------------------------------------------------------------\u001b[0m",
      "\u001b[1;31mNameError\u001b[0m                                 Traceback (most recent call last)",
      "\u001b[1;32m<ipython-input-1-e4a43926e19d>\u001b[0m in \u001b[0;36m<module>\u001b[1;34m\u001b[0m\n\u001b[1;32m----> 1\u001b[1;33m \u001b[0mdf\u001b[0m\u001b[1;33m.\u001b[0m\u001b[0mcolumns\u001b[0m\u001b[1;33m[\u001b[0m\u001b[1;34m'answer'\u001b[0m\u001b[1;33m]\u001b[0m\u001b[1;33m\u001b[0m\u001b[1;33m\u001b[0m\u001b[0m\n\u001b[0m",
      "\u001b[1;31mNameError\u001b[0m: name 'df' is not defined"
     ],
     "output_type": "error"
    }
   ],
   "source": [
    "df.columns['answer']"
   ]
  },
  {
   "cell_type": "code",
   "execution_count": 58,
   "metadata": {},
   "outputs": [
    {
     "data": {
      "text/plain": [
       "0       2019-11-21 12:02:00\n",
       "1       2019-11-21 12:02:00\n",
       "2       2019-11-21 12:02:00\n",
       "3       2019-11-21 12:02:00\n",
       "4       2019-11-21 12:02:00\n",
       "                ...        \n",
       "13754   2018-12-27 03:50:00\n",
       "13755   2018-12-27 03:50:00\n",
       "13756   2018-12-27 03:50:00\n",
       "13757   2018-12-27 03:50:00\n",
       "13758   2018-12-27 03:50:00\n",
       "Name: create_date, Length: 13759, dtype: datetime64[ns]"
      ]
     },
     "execution_count": 58,
     "metadata": {},
     "output_type": "execute_result"
    }
   ],
   "source": [
    "df[\"create_date\"] = pd.to_datetime(df[\"created_at\"], infer_datetime_format = True)\n",
    "df[\"create_date\"]"
   ]
  },
  {
   "cell_type": "code",
   "execution_count": 97,
   "metadata": {},
   "outputs": [],
   "source": [
    "df[\"create_week\"] = (df['create_date'] - pd.to_timedelta(df['create_date'].dt.dayofweek, unit='d') + np.timedelta64(7, 'D')).dt.normalize()\n",
    "df_subset = df[df[\"party\"] == \"DEM\"]"
   ]
  },
  {
   "cell_type": "code",
   "execution_count": 98,
   "metadata": {},
   "outputs": [],
   "source": [
    "# df_grouped = df[df[\"party\"] == \"DEM\"].groupby([\"create_week\", \"candidate_name\"])[\"pct\"].mean().reset_index()"
   ]
  },
  {
   "cell_type": "code",
   "execution_count": 141,
   "metadata": {},
   "outputs": [],
   "source": [
    "df_pivot = df[df[\"party\"] == \"DEM\"].pivot_table(values = \"pct\", index = \"create_week\", columns=\"candidate_name\",\n",
    "                                                aggfunc = np.mean).fillna(0).iloc[-7:]"
   ]
  },
  {
   "cell_type": "code",
   "execution_count": 144,
   "metadata": {},
   "outputs": [
    {
     "data": {
      "text/plain": [
       "DatetimeIndex(['2019-10-14', '2019-10-21', '2019-10-28', '2019-11-04',\n",
       "               '2019-11-11', '2019-11-18', '2019-11-25'],\n",
       "              dtype='datetime64[ns]', name='create_week', freq=None)"
      ]
     },
     "execution_count": 144,
     "metadata": {},
     "output_type": "execute_result"
    }
   ],
   "source": [
    "df_pivot.index"
   ]
  },
  {
   "cell_type": "code",
   "execution_count": 130,
   "metadata": {},
   "outputs": [],
   "source": [
    "candidates = df_subset[\"candidate_name\"].unique()"
   ]
  },
  {
   "cell_type": "code",
   "execution_count": 134,
   "metadata": {},
   "outputs": [
    {
     "name": "stdout",
     "output_type": "stream",
     "text": [
      "Cory A. Booker\n",
      "Joseph R. Biden Jr.\n",
      "Bernard Sanders\n",
      "Elizabeth Warren\n",
      "Pete Buttigieg\n",
      "Kamala D. Harris\n",
      "Andrew Yang\n",
      "Michael Bloomberg\n",
      "Julián Castro\n",
      "Amy Klobuchar\n",
      "Tulsi Gabbard\n",
      "Tom Steyer\n",
      "John K. Delaney\n",
      "Joe Sestak\n",
      "Marianne Williamson\n",
      "Steve Bullock\n",
      "Michael F. Bennet\n",
      "Beto O'Rourke\n",
      "Tim Ryan\n"
     ]
    }
   ],
   "source": [
    "can_selected = []\n",
    "for can in candidates:\n",
    "    if (df_pivot[can] == 0).mean() < 0.5 and df_pivot[can].mean() > 0.1:\n",
    "        print (can)\n",
    "        can_selected.append(can)"
   ]
  },
  {
   "cell_type": "code",
   "execution_count": 139,
   "metadata": {},
   "outputs": [
    {
     "data": {
      "text/plain": [
       "['14.10.2019',\n",
       " '21.10.2019',\n",
       " '28.10.2019',\n",
       " '04.11.2019',\n",
       " '11.11.2019',\n",
       " '18.11.2019',\n",
       " '25.11.2019']"
      ]
     },
     "execution_count": 139,
     "metadata": {},
     "output_type": "execute_result"
    }
   ],
   "source": [
    "list(df_pivot.index.strftime(\"%d.%m.%Y\"))"
   ]
  },
  {
   "cell_type": "code",
   "execution_count": 137,
   "metadata": {},
   "outputs": [
    {
     "data": {
      "text/html": [
       "<div>\n",
       "<style scoped>\n",
       "    .dataframe tbody tr th:only-of-type {\n",
       "        vertical-align: middle;\n",
       "    }\n",
       "\n",
       "    .dataframe tbody tr th {\n",
       "        vertical-align: top;\n",
       "    }\n",
       "\n",
       "    .dataframe thead th {\n",
       "        text-align: right;\n",
       "    }\n",
       "</style>\n",
       "<table border=\"1\" class=\"dataframe\">\n",
       "  <thead>\n",
       "    <tr style=\"text-align: right;\">\n",
       "      <th>candidate_name</th>\n",
       "      <th>Amy Klobuchar</th>\n",
       "      <th>Andrew Cuomo</th>\n",
       "      <th>Andrew Yang</th>\n",
       "      <th>Barack Obama</th>\n",
       "      <th>Bernard Sanders</th>\n",
       "      <th>Beto O'Rourke</th>\n",
       "      <th>Bill de Blasio</th>\n",
       "      <th>Cory A. Booker</th>\n",
       "      <th>Dennis J. Kucinich</th>\n",
       "      <th>Deval Patrick</th>\n",
       "      <th>...</th>\n",
       "      <th>Seth Moulton</th>\n",
       "      <th>Sherrod Brown</th>\n",
       "      <th>Stacey Yvonne Abrams</th>\n",
       "      <th>Steve Bullock</th>\n",
       "      <th>Terry R. McAuliffe</th>\n",
       "      <th>Tim Kaine</th>\n",
       "      <th>Tim Ryan</th>\n",
       "      <th>Tom Steyer</th>\n",
       "      <th>Tulsi Gabbard</th>\n",
       "      <th>Wayne Messam</th>\n",
       "    </tr>\n",
       "    <tr>\n",
       "      <th>create_week</th>\n",
       "      <th></th>\n",
       "      <th></th>\n",
       "      <th></th>\n",
       "      <th></th>\n",
       "      <th></th>\n",
       "      <th></th>\n",
       "      <th></th>\n",
       "      <th></th>\n",
       "      <th></th>\n",
       "      <th></th>\n",
       "      <th></th>\n",
       "      <th></th>\n",
       "      <th></th>\n",
       "      <th></th>\n",
       "      <th></th>\n",
       "      <th></th>\n",
       "      <th></th>\n",
       "      <th></th>\n",
       "      <th></th>\n",
       "      <th></th>\n",
       "      <th></th>\n",
       "    </tr>\n",
       "  </thead>\n",
       "  <tbody>\n",
       "    <tr>\n",
       "      <th>2019-10-14</th>\n",
       "      <td>1.166667</td>\n",
       "      <td>0.0</td>\n",
       "      <td>2.210526</td>\n",
       "      <td>0.0</td>\n",
       "      <td>21.560000</td>\n",
       "      <td>2.000000</td>\n",
       "      <td>0.000000</td>\n",
       "      <td>1.789474</td>\n",
       "      <td>0.0</td>\n",
       "      <td>0.0</td>\n",
       "      <td>...</td>\n",
       "      <td>0.000000</td>\n",
       "      <td>0.0</td>\n",
       "      <td>0.0</td>\n",
       "      <td>0.222222</td>\n",
       "      <td>0.0</td>\n",
       "      <td>0.0</td>\n",
       "      <td>0.500000</td>\n",
       "      <td>1.176471</td>\n",
       "      <td>1.000000</td>\n",
       "      <td>0.000000</td>\n",
       "    </tr>\n",
       "    <tr>\n",
       "      <th>2019-10-21</th>\n",
       "      <td>1.595000</td>\n",
       "      <td>0.0</td>\n",
       "      <td>2.558333</td>\n",
       "      <td>0.0</td>\n",
       "      <td>14.288000</td>\n",
       "      <td>1.925000</td>\n",
       "      <td>0.266667</td>\n",
       "      <td>1.991667</td>\n",
       "      <td>0.0</td>\n",
       "      <td>0.0</td>\n",
       "      <td>...</td>\n",
       "      <td>0.000000</td>\n",
       "      <td>0.0</td>\n",
       "      <td>0.0</td>\n",
       "      <td>0.746667</td>\n",
       "      <td>0.0</td>\n",
       "      <td>0.0</td>\n",
       "      <td>0.487500</td>\n",
       "      <td>1.488889</td>\n",
       "      <td>1.070000</td>\n",
       "      <td>0.166667</td>\n",
       "    </tr>\n",
       "    <tr>\n",
       "      <th>2019-10-28</th>\n",
       "      <td>1.816667</td>\n",
       "      <td>0.0</td>\n",
       "      <td>2.650000</td>\n",
       "      <td>0.0</td>\n",
       "      <td>15.104167</td>\n",
       "      <td>1.754167</td>\n",
       "      <td>0.000000</td>\n",
       "      <td>1.679167</td>\n",
       "      <td>0.0</td>\n",
       "      <td>0.0</td>\n",
       "      <td>...</td>\n",
       "      <td>0.000000</td>\n",
       "      <td>0.0</td>\n",
       "      <td>0.0</td>\n",
       "      <td>0.338095</td>\n",
       "      <td>0.0</td>\n",
       "      <td>0.0</td>\n",
       "      <td>0.352381</td>\n",
       "      <td>1.160870</td>\n",
       "      <td>1.475000</td>\n",
       "      <td>0.081250</td>\n",
       "    </tr>\n",
       "    <tr>\n",
       "      <th>2019-11-04</th>\n",
       "      <td>2.267647</td>\n",
       "      <td>0.0</td>\n",
       "      <td>2.841765</td>\n",
       "      <td>0.0</td>\n",
       "      <td>17.519412</td>\n",
       "      <td>1.291176</td>\n",
       "      <td>0.000000</td>\n",
       "      <td>1.732941</td>\n",
       "      <td>0.0</td>\n",
       "      <td>0.0</td>\n",
       "      <td>...</td>\n",
       "      <td>0.000000</td>\n",
       "      <td>0.0</td>\n",
       "      <td>0.0</td>\n",
       "      <td>0.042857</td>\n",
       "      <td>0.0</td>\n",
       "      <td>0.0</td>\n",
       "      <td>0.000000</td>\n",
       "      <td>1.153333</td>\n",
       "      <td>1.813125</td>\n",
       "      <td>0.035714</td>\n",
       "    </tr>\n",
       "    <tr>\n",
       "      <th>2019-11-11</th>\n",
       "      <td>2.400000</td>\n",
       "      <td>0.0</td>\n",
       "      <td>1.890476</td>\n",
       "      <td>0.0</td>\n",
       "      <td>15.790909</td>\n",
       "      <td>1.637500</td>\n",
       "      <td>0.000000</td>\n",
       "      <td>1.223810</td>\n",
       "      <td>0.0</td>\n",
       "      <td>0.0</td>\n",
       "      <td>...</td>\n",
       "      <td>0.000000</td>\n",
       "      <td>0.0</td>\n",
       "      <td>0.0</td>\n",
       "      <td>0.500000</td>\n",
       "      <td>0.0</td>\n",
       "      <td>0.0</td>\n",
       "      <td>0.666667</td>\n",
       "      <td>0.800000</td>\n",
       "      <td>1.125000</td>\n",
       "      <td>0.142857</td>\n",
       "    </tr>\n",
       "    <tr>\n",
       "      <th>2019-11-18</th>\n",
       "      <td>2.883333</td>\n",
       "      <td>0.0</td>\n",
       "      <td>2.400000</td>\n",
       "      <td>0.0</td>\n",
       "      <td>17.300000</td>\n",
       "      <td>0.533333</td>\n",
       "      <td>0.000000</td>\n",
       "      <td>1.638889</td>\n",
       "      <td>0.0</td>\n",
       "      <td>0.0</td>\n",
       "      <td>...</td>\n",
       "      <td>0.000000</td>\n",
       "      <td>0.0</td>\n",
       "      <td>0.0</td>\n",
       "      <td>0.540000</td>\n",
       "      <td>0.0</td>\n",
       "      <td>0.0</td>\n",
       "      <td>0.000000</td>\n",
       "      <td>2.177778</td>\n",
       "      <td>1.776471</td>\n",
       "      <td>0.027273</td>\n",
       "    </tr>\n",
       "    <tr>\n",
       "      <th>2019-11-25</th>\n",
       "      <td>1.786667</td>\n",
       "      <td>0.0</td>\n",
       "      <td>2.690323</td>\n",
       "      <td>0.0</td>\n",
       "      <td>17.461765</td>\n",
       "      <td>3.005556</td>\n",
       "      <td>1.100000</td>\n",
       "      <td>2.156250</td>\n",
       "      <td>0.0</td>\n",
       "      <td>0.3</td>\n",
       "      <td>...</td>\n",
       "      <td>1.066667</td>\n",
       "      <td>0.0</td>\n",
       "      <td>0.0</td>\n",
       "      <td>0.809091</td>\n",
       "      <td>0.0</td>\n",
       "      <td>0.0</td>\n",
       "      <td>1.200000</td>\n",
       "      <td>1.904000</td>\n",
       "      <td>1.571429</td>\n",
       "      <td>0.137500</td>\n",
       "    </tr>\n",
       "  </tbody>\n",
       "</table>\n",
       "<p>7 rows × 56 columns</p>\n",
       "</div>"
      ],
      "text/plain": [
       "candidate_name  Amy Klobuchar  Andrew Cuomo  Andrew Yang  Barack Obama  \\\n",
       "create_week                                                              \n",
       "2019-10-14           1.166667           0.0     2.210526           0.0   \n",
       "2019-10-21           1.595000           0.0     2.558333           0.0   \n",
       "2019-10-28           1.816667           0.0     2.650000           0.0   \n",
       "2019-11-04           2.267647           0.0     2.841765           0.0   \n",
       "2019-11-11           2.400000           0.0     1.890476           0.0   \n",
       "2019-11-18           2.883333           0.0     2.400000           0.0   \n",
       "2019-11-25           1.786667           0.0     2.690323           0.0   \n",
       "\n",
       "candidate_name  Bernard Sanders  Beto O'Rourke  Bill de Blasio  \\\n",
       "create_week                                                      \n",
       "2019-10-14            21.560000       2.000000        0.000000   \n",
       "2019-10-21            14.288000       1.925000        0.266667   \n",
       "2019-10-28            15.104167       1.754167        0.000000   \n",
       "2019-11-04            17.519412       1.291176        0.000000   \n",
       "2019-11-11            15.790909       1.637500        0.000000   \n",
       "2019-11-18            17.300000       0.533333        0.000000   \n",
       "2019-11-25            17.461765       3.005556        1.100000   \n",
       "\n",
       "candidate_name  Cory A. Booker  Dennis J. Kucinich  Deval Patrick  ...  \\\n",
       "create_week                                                        ...   \n",
       "2019-10-14            1.789474                 0.0            0.0  ...   \n",
       "2019-10-21            1.991667                 0.0            0.0  ...   \n",
       "2019-10-28            1.679167                 0.0            0.0  ...   \n",
       "2019-11-04            1.732941                 0.0            0.0  ...   \n",
       "2019-11-11            1.223810                 0.0            0.0  ...   \n",
       "2019-11-18            1.638889                 0.0            0.0  ...   \n",
       "2019-11-25            2.156250                 0.0            0.3  ...   \n",
       "\n",
       "candidate_name  Seth Moulton  Sherrod Brown  Stacey Yvonne Abrams  \\\n",
       "create_week                                                         \n",
       "2019-10-14          0.000000            0.0                   0.0   \n",
       "2019-10-21          0.000000            0.0                   0.0   \n",
       "2019-10-28          0.000000            0.0                   0.0   \n",
       "2019-11-04          0.000000            0.0                   0.0   \n",
       "2019-11-11          0.000000            0.0                   0.0   \n",
       "2019-11-18          0.000000            0.0                   0.0   \n",
       "2019-11-25          1.066667            0.0                   0.0   \n",
       "\n",
       "candidate_name  Steve Bullock  Terry R. McAuliffe  Tim Kaine  Tim Ryan  \\\n",
       "create_week                                                              \n",
       "2019-10-14           0.222222                 0.0        0.0  0.500000   \n",
       "2019-10-21           0.746667                 0.0        0.0  0.487500   \n",
       "2019-10-28           0.338095                 0.0        0.0  0.352381   \n",
       "2019-11-04           0.042857                 0.0        0.0  0.000000   \n",
       "2019-11-11           0.500000                 0.0        0.0  0.666667   \n",
       "2019-11-18           0.540000                 0.0        0.0  0.000000   \n",
       "2019-11-25           0.809091                 0.0        0.0  1.200000   \n",
       "\n",
       "candidate_name  Tom Steyer  Tulsi Gabbard  Wayne Messam  \n",
       "create_week                                              \n",
       "2019-10-14        1.176471       1.000000      0.000000  \n",
       "2019-10-21        1.488889       1.070000      0.166667  \n",
       "2019-10-28        1.160870       1.475000      0.081250  \n",
       "2019-11-04        1.153333       1.813125      0.035714  \n",
       "2019-11-11        0.800000       1.125000      0.142857  \n",
       "2019-11-18        2.177778       1.776471      0.027273  \n",
       "2019-11-25        1.904000       1.571429      0.137500  \n",
       "\n",
       "[7 rows x 56 columns]"
      ]
     },
     "execution_count": 137,
     "metadata": {},
     "output_type": "execute_result"
    }
   ],
   "source": [
    "df_pivot[can]"
   ]
  },
  {
   "cell_type": "code",
   "execution_count": 77,
   "metadata": {},
   "outputs": [
    {
     "name": "stdout",
     "output_type": "stream",
     "text": [
      "Amy Klobuchar 48\n",
      "Andrew Cuomo 7\n",
      "Andrew Yang 43\n",
      "Bernard Sanders 48\n",
      "Beto O'Rourke 48\n",
      "Bill de Blasio 35\n",
      "Cory A. Booker 48\n",
      "Deval Patrick 3\n",
      "Elizabeth Warren 48\n",
      "Eric Garcetti 7\n",
      "Eric H. Holder 13\n",
      "Eric Swalwell 28\n",
      "Gavin Newsom 2\n",
      "Hillary Rodham Clinton 10\n",
      "Howard Schultz 7\n",
      "Jay Robert Inslee 42\n",
      "John Hickenlooper 40\n",
      "John K. Delaney 48\n",
      "John Kerry 10\n",
      "Joseph Kennedy III 3\n",
      "Joseph R. Biden Jr. 48\n",
      "Julián Castro 48\n",
      "Kamala D. Harris 48\n",
      "Kirsten E. Gillibrand 44\n",
      "Mark Zuckerberg 2\n",
      "Michael Avenatti 4\n",
      "Michael Bloomberg 21\n",
      "Michelle Obama 5\n",
      "Oprah Winfrey 3\n",
      "Seth Moulton 27\n",
      "Sherrod Brown 14\n",
      "Steve Bullock 48\n",
      "Terry R. McAuliffe 21\n",
      "Tim Kaine 2\n",
      "Tom Steyer 23\n",
      "Richard Neece Ojeda 2\n",
      "Tulsi Gabbard 44\n",
      "Pete Buttigieg 43\n",
      "Marianne Williamson 40\n",
      "Stacey Yvonne Abrams 11\n",
      "Michael F. Bennet 38\n",
      "Wayne Messam 34\n",
      "Tim Ryan 33\n",
      "Mike Gravel 22\n",
      "Barack Obama 1\n",
      "Dennis J. Kucinich 1\n",
      "Donald Trump 1\n",
      "Dwayne Johnson 1\n",
      "Gary Johnson 1\n",
      "Jia Lee 1\n",
      "Kyrsten Sinema 1\n",
      "Margaret Wood Hassan 1\n",
      "Mark R. Warner 1\n",
      "Nancy Pelosi 1\n",
      "Robert C. Scott 1\n",
      "Joe Sestak 22\n"
     ]
    }
   ],
   "source": [
    "for candidate in df_grouped[\"candidate_name\"].unique():\n",
    "    print (candidate, len(df_grouped[df_grouped[\"candidate_name\"] == candidate]))"
   ]
  },
  {
   "cell_type": "code",
   "execution_count": null,
   "metadata": {},
   "outputs": [],
   "source": []
  },
  {
   "cell_type": "code",
   "execution_count": 29,
   "metadata": {},
   "outputs": [],
   "source": [
    "rg = np.arange('2018-11-04', '2019-12-02', np.timedelta64(7, 'D'), dtype='datetime64[ns]')"
   ]
  },
  {
   "cell_type": "code",
   "execution_count": 31,
   "metadata": {},
   "outputs": [
    {
     "data": {
      "text/plain": [
       "array(['2018-11-04T00:00:00.000000000', '2018-11-11T00:00:00.000000000',\n",
       "       '2018-11-18T00:00:00.000000000', '2018-11-25T00:00:00.000000000',\n",
       "       '2018-12-02T00:00:00.000000000', '2018-12-09T00:00:00.000000000',\n",
       "       '2018-12-16T00:00:00.000000000', '2018-12-23T00:00:00.000000000',\n",
       "       '2018-12-30T00:00:00.000000000', '2019-01-06T00:00:00.000000000',\n",
       "       '2019-01-13T00:00:00.000000000', '2019-01-20T00:00:00.000000000',\n",
       "       '2019-01-27T00:00:00.000000000', '2019-02-03T00:00:00.000000000',\n",
       "       '2019-02-10T00:00:00.000000000', '2019-02-17T00:00:00.000000000',\n",
       "       '2019-02-24T00:00:00.000000000', '2019-03-03T00:00:00.000000000',\n",
       "       '2019-03-10T00:00:00.000000000', '2019-03-17T00:00:00.000000000',\n",
       "       '2019-03-24T00:00:00.000000000', '2019-03-31T00:00:00.000000000',\n",
       "       '2019-04-07T00:00:00.000000000', '2019-04-14T00:00:00.000000000',\n",
       "       '2019-04-21T00:00:00.000000000', '2019-04-28T00:00:00.000000000',\n",
       "       '2019-05-05T00:00:00.000000000', '2019-05-12T00:00:00.000000000',\n",
       "       '2019-05-19T00:00:00.000000000', '2019-05-26T00:00:00.000000000',\n",
       "       '2019-06-02T00:00:00.000000000', '2019-06-09T00:00:00.000000000',\n",
       "       '2019-06-16T00:00:00.000000000', '2019-06-23T00:00:00.000000000',\n",
       "       '2019-06-30T00:00:00.000000000', '2019-07-07T00:00:00.000000000',\n",
       "       '2019-07-14T00:00:00.000000000', '2019-07-21T00:00:00.000000000',\n",
       "       '2019-07-28T00:00:00.000000000', '2019-08-04T00:00:00.000000000',\n",
       "       '2019-08-11T00:00:00.000000000', '2019-08-18T00:00:00.000000000',\n",
       "       '2019-08-25T00:00:00.000000000', '2019-09-01T00:00:00.000000000',\n",
       "       '2019-09-08T00:00:00.000000000', '2019-09-15T00:00:00.000000000',\n",
       "       '2019-09-22T00:00:00.000000000', '2019-09-29T00:00:00.000000000',\n",
       "       '2019-10-06T00:00:00.000000000', '2019-10-13T00:00:00.000000000',\n",
       "       '2019-10-20T00:00:00.000000000', '2019-10-27T00:00:00.000000000',\n",
       "       '2019-11-03T00:00:00.000000000', '2019-11-10T00:00:00.000000000',\n",
       "       '2019-11-17T00:00:00.000000000', '2019-11-24T00:00:00.000000000',\n",
       "       '2019-12-01T00:00:00.000000000'], dtype='datetime64[ns]')"
      ]
     },
     "execution_count": 31,
     "metadata": {},
     "output_type": "execute_result"
    }
   ],
   "source": [
    "rg"
   ]
  }
 ],
 "metadata": {
  "kernelspec": {
   "display_name": "Python 3",
   "language": "python",
   "name": "python3"
  },
  "language_info": {
   "codemirror_mode": {
    "name": "ipython",
    "version": 3
   },
   "file_extension": ".py",
   "mimetype": "text/x-python",
   "name": "python",
   "nbconvert_exporter": "python",
   "pygments_lexer": "ipython3",
   "version": "3.7.5"
  }
 },
 "nbformat": 4,
 "nbformat_minor": 2
}
