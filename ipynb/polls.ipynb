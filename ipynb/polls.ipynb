{
 "cells": [
  {
   "cell_type": "code",
   "execution_count": 1,
   "metadata": {},
   "outputs": [],
   "source": [
    "import numpy as np\n",
    "import pandas as pd"
   ]
  },
  {
   "cell_type": "markdown",
   "metadata": {},
   "source": [
    "* what are question_id, poll_id, pollster_id? where can we get descriptions for them? would they be useful for us?"
   ]
  },
  {
   "cell_type": "code",
   "execution_count": 2,
   "metadata": {},
   "outputs": [
    {
     "name": "stderr",
     "output_type": "stream",
     "text": [
      "/home/octav/anaconda3/lib/python3.7/site-packages/IPython/core/interactiveshell.py:3063: DtypeWarning: Columns (19,21) have mixed types.Specify dtype option on import or set low_memory=False.\n",
      "  interactivity=interactivity, compiler=compiler, result=result)\n"
     ]
    }
   ],
   "source": [
    "df = pd.read_csv(\"../president_primary_polls.csv\")"
   ]
  },
  {
   "cell_type": "code",
   "execution_count": 3,
   "metadata": {},
   "outputs": [
    {
     "ename": "IndexError",
     "evalue": "only integers, slices (`:`), ellipsis (`...`), numpy.newaxis (`None`) and integer or boolean arrays are valid indices",
     "output_type": "error",
     "traceback": [
      "\u001b[0;31m---------------------------------------------------------------------------\u001b[0m",
      "\u001b[0;31mIndexError\u001b[0m                                Traceback (most recent call last)",
      "\u001b[0;32m<ipython-input-3-e4a43926e19d>\u001b[0m in \u001b[0;36m<module>\u001b[0;34m\u001b[0m\n\u001b[0;32m----> 1\u001b[0;31m \u001b[0mdf\u001b[0m\u001b[0;34m.\u001b[0m\u001b[0mcolumns\u001b[0m\u001b[0;34m[\u001b[0m\u001b[0;34m'answer'\u001b[0m\u001b[0;34m]\u001b[0m\u001b[0;34m\u001b[0m\u001b[0;34m\u001b[0m\u001b[0m\n\u001b[0m",
      "\u001b[0;32m~/anaconda3/lib/python3.7/site-packages/pandas/core/indexes/base.py\u001b[0m in \u001b[0;36m__getitem__\u001b[0;34m(self, key)\u001b[0m\n\u001b[1;32m   3928\u001b[0m         \u001b[0;32mif\u001b[0m \u001b[0mis_scalar\u001b[0m\u001b[0;34m(\u001b[0m\u001b[0mkey\u001b[0m\u001b[0;34m)\u001b[0m\u001b[0;34m:\u001b[0m\u001b[0;34m\u001b[0m\u001b[0;34m\u001b[0m\u001b[0m\n\u001b[1;32m   3929\u001b[0m             \u001b[0mkey\u001b[0m \u001b[0;34m=\u001b[0m \u001b[0mcom\u001b[0m\u001b[0;34m.\u001b[0m\u001b[0mcast_scalar_indexer\u001b[0m\u001b[0;34m(\u001b[0m\u001b[0mkey\u001b[0m\u001b[0;34m)\u001b[0m\u001b[0;34m\u001b[0m\u001b[0;34m\u001b[0m\u001b[0m\n\u001b[0;32m-> 3930\u001b[0;31m             \u001b[0;32mreturn\u001b[0m \u001b[0mgetitem\u001b[0m\u001b[0;34m(\u001b[0m\u001b[0mkey\u001b[0m\u001b[0;34m)\u001b[0m\u001b[0;34m\u001b[0m\u001b[0;34m\u001b[0m\u001b[0m\n\u001b[0m\u001b[1;32m   3931\u001b[0m \u001b[0;34m\u001b[0m\u001b[0m\n\u001b[1;32m   3932\u001b[0m         \u001b[0;32mif\u001b[0m \u001b[0misinstance\u001b[0m\u001b[0;34m(\u001b[0m\u001b[0mkey\u001b[0m\u001b[0;34m,\u001b[0m \u001b[0mslice\u001b[0m\u001b[0;34m)\u001b[0m\u001b[0;34m:\u001b[0m\u001b[0;34m\u001b[0m\u001b[0;34m\u001b[0m\u001b[0m\n",
      "\u001b[0;31mIndexError\u001b[0m: only integers, slices (`:`), ellipsis (`...`), numpy.newaxis (`None`) and integer or boolean arrays are valid indices"
     ]
    }
   ],
   "source": [
    "df.columns['answer']"
   ]
  },
  {
   "cell_type": "code",
   "execution_count": 4,
   "metadata": {},
   "outputs": [
    {
     "data": {
      "text/plain": [
       "0       2020-02-24 15:14:00\n",
       "1       2020-02-24 15:14:00\n",
       "2       2020-02-24 15:14:00\n",
       "3       2020-02-24 15:14:00\n",
       "4       2020-02-24 15:14:00\n",
       "                ...        \n",
       "17326   2018-12-27 03:50:00\n",
       "17327   2018-12-27 03:50:00\n",
       "17328   2018-12-27 03:50:00\n",
       "17329   2018-12-27 03:50:00\n",
       "17330   2018-12-27 03:50:00\n",
       "Name: create_date, Length: 17331, dtype: datetime64[ns]"
      ]
     },
     "execution_count": 4,
     "metadata": {},
     "output_type": "execute_result"
    }
   ],
   "source": [
    "df[\"create_date\"] = pd.to_datetime(df[\"created_at\"], infer_datetime_format = True)\n",
    "df[\"create_date\"]"
   ]
  },
  {
   "cell_type": "code",
   "execution_count": 5,
   "metadata": {},
   "outputs": [],
   "source": [
    "df[\"create_week\"] = (df['create_date'] - pd.to_timedelta(df['create_date'].dt.dayofweek, unit='d') + np.timedelta64(7, 'D')).dt.normalize()\n",
    "df_subset = df[df[\"party\"] == \"DEM\"]"
   ]
  },
  {
   "cell_type": "code",
   "execution_count": 6,
   "metadata": {},
   "outputs": [],
   "source": [
    "# df_grouped = df[df[\"party\"] == \"DEM\"].groupby([\"create_week\", \"candidate_name\"])[\"pct\"].mean().reset_index()"
   ]
  },
  {
   "cell_type": "code",
   "execution_count": 7,
   "metadata": {},
   "outputs": [],
   "source": [
    "df_pivot = df[df[\"party\"] == \"DEM\"].pivot_table(values = \"pct\", index = \"create_week\", columns=\"candidate_name\",\n",
    "                                                aggfunc = np.mean).fillna(0).iloc[-7:]"
   ]
  },
  {
   "cell_type": "code",
   "execution_count": 14,
   "metadata": {},
   "outputs": [
    {
     "ename": "NameError",
     "evalue": "name 'start_date' is not defined",
     "output_type": "error",
     "traceback": [
      "\u001b[0;31m---------------------------------------------------------------------------\u001b[0m",
      "\u001b[0;31mNameError\u001b[0m                                 Traceback (most recent call last)",
      "\u001b[0;32m<ipython-input-14-5d2e203957cf>\u001b[0m in \u001b[0;36m<module>\u001b[0;34m\u001b[0m\n\u001b[0;32m----> 1\u001b[0;31m \u001b[0mdf_pivot\u001b[0m\u001b[0;34m.\u001b[0m\u001b[0mindex\u001b[0m\u001b[0;34m[\u001b[0m\u001b[0;36m1\u001b[0m\u001b[0;34m]\u001b[0m \u001b[0;34m>\u001b[0m \u001b[0mstart_date\u001b[0m\u001b[0;34m\u001b[0m\u001b[0;34m\u001b[0m\u001b[0m\n\u001b[0m",
      "\u001b[0;31mNameError\u001b[0m: name 'start_date' is not defined"
     ]
    }
   ],
   "source": [
    "df_pivot.index[1] > start_date"
   ]
  },
  {
   "cell_type": "code",
   "execution_count": 9,
   "metadata": {},
   "outputs": [],
   "source": [
    "candidates = df_subset[\"candidate_name\"].unique()"
   ]
  },
  {
   "cell_type": "code",
   "execution_count": 10,
   "metadata": {},
   "outputs": [
    {
     "name": "stdout",
     "output_type": "stream",
     "text": [
      "Joseph R. Biden Jr.\n",
      "Pete Buttigieg\n",
      "Tulsi Gabbard\n",
      "Amy Klobuchar\n",
      "Bernard Sanders\n",
      "Tom Steyer\n",
      "Elizabeth Warren\n",
      "Michael Bloomberg\n",
      "Michael F. Bennet\n",
      "Deval Patrick\n",
      "Andrew Yang\n",
      "Cory A. Booker\n",
      "John K. Delaney\n"
     ]
    }
   ],
   "source": [
    "can_selected = []\n",
    "for can in candidates:\n",
    "    if (df_pivot[can] == 0).mean() < 0.5 and df_pivot[can].mean() > 0.1:\n",
    "        print (can)\n",
    "        can_selected.append(can)"
   ]
  },
  {
   "cell_type": "code",
   "execution_count": 11,
   "metadata": {},
   "outputs": [
    {
     "data": {
      "text/plain": [
       "['20.01.2020',\n",
       " '27.01.2020',\n",
       " '03.02.2020',\n",
       " '10.02.2020',\n",
       " '17.02.2020',\n",
       " '24.02.2020',\n",
       " '02.03.2020']"
      ]
     },
     "execution_count": 11,
     "metadata": {},
     "output_type": "execute_result"
    }
   ],
   "source": [
    "list(df_pivot.index.strftime(\"%d.%m.%Y\"))"
   ]
  },
  {
   "cell_type": "code",
   "execution_count": 137,
   "metadata": {},
   "outputs": [
    {
     "data": {
      "text/html": [
       "<div>\n",
       "<style scoped>\n",
       "    .dataframe tbody tr th:only-of-type {\n",
       "        vertical-align: middle;\n",
       "    }\n",
       "\n",
       "    .dataframe tbody tr th {\n",
       "        vertical-align: top;\n",
       "    }\n",
       "\n",
       "    .dataframe thead th {\n",
       "        text-align: right;\n",
       "    }\n",
       "</style>\n",
       "<table border=\"1\" class=\"dataframe\">\n",
       "  <thead>\n",
       "    <tr style=\"text-align: right;\">\n",
       "      <th>candidate_name</th>\n",
       "      <th>Amy Klobuchar</th>\n",
       "      <th>Andrew Cuomo</th>\n",
       "      <th>Andrew Yang</th>\n",
       "      <th>Barack Obama</th>\n",
       "      <th>Bernard Sanders</th>\n",
       "      <th>Beto O'Rourke</th>\n",
       "      <th>Bill de Blasio</th>\n",
       "      <th>Cory A. Booker</th>\n",
       "      <th>Dennis J. Kucinich</th>\n",
       "      <th>Deval Patrick</th>\n",
       "      <th>...</th>\n",
       "      <th>Seth Moulton</th>\n",
       "      <th>Sherrod Brown</th>\n",
       "      <th>Stacey Yvonne Abrams</th>\n",
       "      <th>Steve Bullock</th>\n",
       "      <th>Terry R. McAuliffe</th>\n",
       "      <th>Tim Kaine</th>\n",
       "      <th>Tim Ryan</th>\n",
       "      <th>Tom Steyer</th>\n",
       "      <th>Tulsi Gabbard</th>\n",
       "      <th>Wayne Messam</th>\n",
       "    </tr>\n",
       "    <tr>\n",
       "      <th>create_week</th>\n",
       "      <th></th>\n",
       "      <th></th>\n",
       "      <th></th>\n",
       "      <th></th>\n",
       "      <th></th>\n",
       "      <th></th>\n",
       "      <th></th>\n",
       "      <th></th>\n",
       "      <th></th>\n",
       "      <th></th>\n",
       "      <th></th>\n",
       "      <th></th>\n",
       "      <th></th>\n",
       "      <th></th>\n",
       "      <th></th>\n",
       "      <th></th>\n",
       "      <th></th>\n",
       "      <th></th>\n",
       "      <th></th>\n",
       "      <th></th>\n",
       "      <th></th>\n",
       "    </tr>\n",
       "  </thead>\n",
       "  <tbody>\n",
       "    <tr>\n",
       "      <th>2019-10-14</th>\n",
       "      <td>1.166667</td>\n",
       "      <td>0.0</td>\n",
       "      <td>2.210526</td>\n",
       "      <td>0.0</td>\n",
       "      <td>21.560000</td>\n",
       "      <td>2.000000</td>\n",
       "      <td>0.000000</td>\n",
       "      <td>1.789474</td>\n",
       "      <td>0.0</td>\n",
       "      <td>0.0</td>\n",
       "      <td>...</td>\n",
       "      <td>0.000000</td>\n",
       "      <td>0.0</td>\n",
       "      <td>0.0</td>\n",
       "      <td>0.222222</td>\n",
       "      <td>0.0</td>\n",
       "      <td>0.0</td>\n",
       "      <td>0.500000</td>\n",
       "      <td>1.176471</td>\n",
       "      <td>1.000000</td>\n",
       "      <td>0.000000</td>\n",
       "    </tr>\n",
       "    <tr>\n",
       "      <th>2019-10-21</th>\n",
       "      <td>1.595000</td>\n",
       "      <td>0.0</td>\n",
       "      <td>2.558333</td>\n",
       "      <td>0.0</td>\n",
       "      <td>14.288000</td>\n",
       "      <td>1.925000</td>\n",
       "      <td>0.266667</td>\n",
       "      <td>1.991667</td>\n",
       "      <td>0.0</td>\n",
       "      <td>0.0</td>\n",
       "      <td>...</td>\n",
       "      <td>0.000000</td>\n",
       "      <td>0.0</td>\n",
       "      <td>0.0</td>\n",
       "      <td>0.746667</td>\n",
       "      <td>0.0</td>\n",
       "      <td>0.0</td>\n",
       "      <td>0.487500</td>\n",
       "      <td>1.488889</td>\n",
       "      <td>1.070000</td>\n",
       "      <td>0.166667</td>\n",
       "    </tr>\n",
       "    <tr>\n",
       "      <th>2019-10-28</th>\n",
       "      <td>1.816667</td>\n",
       "      <td>0.0</td>\n",
       "      <td>2.650000</td>\n",
       "      <td>0.0</td>\n",
       "      <td>15.104167</td>\n",
       "      <td>1.754167</td>\n",
       "      <td>0.000000</td>\n",
       "      <td>1.679167</td>\n",
       "      <td>0.0</td>\n",
       "      <td>0.0</td>\n",
       "      <td>...</td>\n",
       "      <td>0.000000</td>\n",
       "      <td>0.0</td>\n",
       "      <td>0.0</td>\n",
       "      <td>0.338095</td>\n",
       "      <td>0.0</td>\n",
       "      <td>0.0</td>\n",
       "      <td>0.352381</td>\n",
       "      <td>1.160870</td>\n",
       "      <td>1.475000</td>\n",
       "      <td>0.081250</td>\n",
       "    </tr>\n",
       "    <tr>\n",
       "      <th>2019-11-04</th>\n",
       "      <td>2.267647</td>\n",
       "      <td>0.0</td>\n",
       "      <td>2.841765</td>\n",
       "      <td>0.0</td>\n",
       "      <td>17.519412</td>\n",
       "      <td>1.291176</td>\n",
       "      <td>0.000000</td>\n",
       "      <td>1.732941</td>\n",
       "      <td>0.0</td>\n",
       "      <td>0.0</td>\n",
       "      <td>...</td>\n",
       "      <td>0.000000</td>\n",
       "      <td>0.0</td>\n",
       "      <td>0.0</td>\n",
       "      <td>0.042857</td>\n",
       "      <td>0.0</td>\n",
       "      <td>0.0</td>\n",
       "      <td>0.000000</td>\n",
       "      <td>1.153333</td>\n",
       "      <td>1.813125</td>\n",
       "      <td>0.035714</td>\n",
       "    </tr>\n",
       "    <tr>\n",
       "      <th>2019-11-11</th>\n",
       "      <td>2.400000</td>\n",
       "      <td>0.0</td>\n",
       "      <td>1.890476</td>\n",
       "      <td>0.0</td>\n",
       "      <td>15.790909</td>\n",
       "      <td>1.637500</td>\n",
       "      <td>0.000000</td>\n",
       "      <td>1.223810</td>\n",
       "      <td>0.0</td>\n",
       "      <td>0.0</td>\n",
       "      <td>...</td>\n",
       "      <td>0.000000</td>\n",
       "      <td>0.0</td>\n",
       "      <td>0.0</td>\n",
       "      <td>0.500000</td>\n",
       "      <td>0.0</td>\n",
       "      <td>0.0</td>\n",
       "      <td>0.666667</td>\n",
       "      <td>0.800000</td>\n",
       "      <td>1.125000</td>\n",
       "      <td>0.142857</td>\n",
       "    </tr>\n",
       "    <tr>\n",
       "      <th>2019-11-18</th>\n",
       "      <td>2.883333</td>\n",
       "      <td>0.0</td>\n",
       "      <td>2.400000</td>\n",
       "      <td>0.0</td>\n",
       "      <td>17.300000</td>\n",
       "      <td>0.533333</td>\n",
       "      <td>0.000000</td>\n",
       "      <td>1.638889</td>\n",
       "      <td>0.0</td>\n",
       "      <td>0.0</td>\n",
       "      <td>...</td>\n",
       "      <td>0.000000</td>\n",
       "      <td>0.0</td>\n",
       "      <td>0.0</td>\n",
       "      <td>0.540000</td>\n",
       "      <td>0.0</td>\n",
       "      <td>0.0</td>\n",
       "      <td>0.000000</td>\n",
       "      <td>2.177778</td>\n",
       "      <td>1.776471</td>\n",
       "      <td>0.027273</td>\n",
       "    </tr>\n",
       "    <tr>\n",
       "      <th>2019-11-25</th>\n",
       "      <td>1.786667</td>\n",
       "      <td>0.0</td>\n",
       "      <td>2.690323</td>\n",
       "      <td>0.0</td>\n",
       "      <td>17.461765</td>\n",
       "      <td>3.005556</td>\n",
       "      <td>1.100000</td>\n",
       "      <td>2.156250</td>\n",
       "      <td>0.0</td>\n",
       "      <td>0.3</td>\n",
       "      <td>...</td>\n",
       "      <td>1.066667</td>\n",
       "      <td>0.0</td>\n",
       "      <td>0.0</td>\n",
       "      <td>0.809091</td>\n",
       "      <td>0.0</td>\n",
       "      <td>0.0</td>\n",
       "      <td>1.200000</td>\n",
       "      <td>1.904000</td>\n",
       "      <td>1.571429</td>\n",
       "      <td>0.137500</td>\n",
       "    </tr>\n",
       "  </tbody>\n",
       "</table>\n",
       "<p>7 rows × 56 columns</p>\n",
       "</div>"
      ],
      "text/plain": [
       "candidate_name  Amy Klobuchar  Andrew Cuomo  Andrew Yang  Barack Obama  \\\n",
       "create_week                                                              \n",
       "2019-10-14           1.166667           0.0     2.210526           0.0   \n",
       "2019-10-21           1.595000           0.0     2.558333           0.0   \n",
       "2019-10-28           1.816667           0.0     2.650000           0.0   \n",
       "2019-11-04           2.267647           0.0     2.841765           0.0   \n",
       "2019-11-11           2.400000           0.0     1.890476           0.0   \n",
       "2019-11-18           2.883333           0.0     2.400000           0.0   \n",
       "2019-11-25           1.786667           0.0     2.690323           0.0   \n",
       "\n",
       "candidate_name  Bernard Sanders  Beto O'Rourke  Bill de Blasio  \\\n",
       "create_week                                                      \n",
       "2019-10-14            21.560000       2.000000        0.000000   \n",
       "2019-10-21            14.288000       1.925000        0.266667   \n",
       "2019-10-28            15.104167       1.754167        0.000000   \n",
       "2019-11-04            17.519412       1.291176        0.000000   \n",
       "2019-11-11            15.790909       1.637500        0.000000   \n",
       "2019-11-18            17.300000       0.533333        0.000000   \n",
       "2019-11-25            17.461765       3.005556        1.100000   \n",
       "\n",
       "candidate_name  Cory A. Booker  Dennis J. Kucinich  Deval Patrick  ...  \\\n",
       "create_week                                                        ...   \n",
       "2019-10-14            1.789474                 0.0            0.0  ...   \n",
       "2019-10-21            1.991667                 0.0            0.0  ...   \n",
       "2019-10-28            1.679167                 0.0            0.0  ...   \n",
       "2019-11-04            1.732941                 0.0            0.0  ...   \n",
       "2019-11-11            1.223810                 0.0            0.0  ...   \n",
       "2019-11-18            1.638889                 0.0            0.0  ...   \n",
       "2019-11-25            2.156250                 0.0            0.3  ...   \n",
       "\n",
       "candidate_name  Seth Moulton  Sherrod Brown  Stacey Yvonne Abrams  \\\n",
       "create_week                                                         \n",
       "2019-10-14          0.000000            0.0                   0.0   \n",
       "2019-10-21          0.000000            0.0                   0.0   \n",
       "2019-10-28          0.000000            0.0                   0.0   \n",
       "2019-11-04          0.000000            0.0                   0.0   \n",
       "2019-11-11          0.000000            0.0                   0.0   \n",
       "2019-11-18          0.000000            0.0                   0.0   \n",
       "2019-11-25          1.066667            0.0                   0.0   \n",
       "\n",
       "candidate_name  Steve Bullock  Terry R. McAuliffe  Tim Kaine  Tim Ryan  \\\n",
       "create_week                                                              \n",
       "2019-10-14           0.222222                 0.0        0.0  0.500000   \n",
       "2019-10-21           0.746667                 0.0        0.0  0.487500   \n",
       "2019-10-28           0.338095                 0.0        0.0  0.352381   \n",
       "2019-11-04           0.042857                 0.0        0.0  0.000000   \n",
       "2019-11-11           0.500000                 0.0        0.0  0.666667   \n",
       "2019-11-18           0.540000                 0.0        0.0  0.000000   \n",
       "2019-11-25           0.809091                 0.0        0.0  1.200000   \n",
       "\n",
       "candidate_name  Tom Steyer  Tulsi Gabbard  Wayne Messam  \n",
       "create_week                                              \n",
       "2019-10-14        1.176471       1.000000      0.000000  \n",
       "2019-10-21        1.488889       1.070000      0.166667  \n",
       "2019-10-28        1.160870       1.475000      0.081250  \n",
       "2019-11-04        1.153333       1.813125      0.035714  \n",
       "2019-11-11        0.800000       1.125000      0.142857  \n",
       "2019-11-18        2.177778       1.776471      0.027273  \n",
       "2019-11-25        1.904000       1.571429      0.137500  \n",
       "\n",
       "[7 rows x 56 columns]"
      ]
     },
     "execution_count": 137,
     "metadata": {},
     "output_type": "execute_result"
    }
   ],
   "source": [
    "df_pivot[can]"
   ]
  },
  {
   "cell_type": "code",
   "execution_count": 77,
   "metadata": {},
   "outputs": [
    {
     "name": "stdout",
     "output_type": "stream",
     "text": [
      "Amy Klobuchar 48\n",
      "Andrew Cuomo 7\n",
      "Andrew Yang 43\n",
      "Bernard Sanders 48\n",
      "Beto O'Rourke 48\n",
      "Bill de Blasio 35\n",
      "Cory A. Booker 48\n",
      "Deval Patrick 3\n",
      "Elizabeth Warren 48\n",
      "Eric Garcetti 7\n",
      "Eric H. Holder 13\n",
      "Eric Swalwell 28\n",
      "Gavin Newsom 2\n",
      "Hillary Rodham Clinton 10\n",
      "Howard Schultz 7\n",
      "Jay Robert Inslee 42\n",
      "John Hickenlooper 40\n",
      "John K. Delaney 48\n",
      "John Kerry 10\n",
      "Joseph Kennedy III 3\n",
      "Joseph R. Biden Jr. 48\n",
      "Julián Castro 48\n",
      "Kamala D. Harris 48\n",
      "Kirsten E. Gillibrand 44\n",
      "Mark Zuckerberg 2\n",
      "Michael Avenatti 4\n",
      "Michael Bloomberg 21\n",
      "Michelle Obama 5\n",
      "Oprah Winfrey 3\n",
      "Seth Moulton 27\n",
      "Sherrod Brown 14\n",
      "Steve Bullock 48\n",
      "Terry R. McAuliffe 21\n",
      "Tim Kaine 2\n",
      "Tom Steyer 23\n",
      "Richard Neece Ojeda 2\n",
      "Tulsi Gabbard 44\n",
      "Pete Buttigieg 43\n",
      "Marianne Williamson 40\n",
      "Stacey Yvonne Abrams 11\n",
      "Michael F. Bennet 38\n",
      "Wayne Messam 34\n",
      "Tim Ryan 33\n",
      "Mike Gravel 22\n",
      "Barack Obama 1\n",
      "Dennis J. Kucinich 1\n",
      "Donald Trump 1\n",
      "Dwayne Johnson 1\n",
      "Gary Johnson 1\n",
      "Jia Lee 1\n",
      "Kyrsten Sinema 1\n",
      "Margaret Wood Hassan 1\n",
      "Mark R. Warner 1\n",
      "Nancy Pelosi 1\n",
      "Robert C. Scott 1\n",
      "Joe Sestak 22\n"
     ]
    }
   ],
   "source": [
    "for candidate in df_grouped[\"candidate_name\"].unique():\n",
    "    print (candidate, len(df_grouped[df_grouped[\"candidate_name\"] == candidate]))"
   ]
  },
  {
   "cell_type": "code",
   "execution_count": null,
   "metadata": {},
   "outputs": [],
   "source": []
  },
  {
   "cell_type": "code",
   "execution_count": 29,
   "metadata": {},
   "outputs": [],
   "source": [
    "rg = np.arange('2018-11-04', '2019-12-02', np.timedelta64(7, 'D'), dtype='datetime64[ns]')"
   ]
  },
  {
   "cell_type": "code",
   "execution_count": 31,
   "metadata": {},
   "outputs": [
    {
     "data": {
      "text/plain": [
       "array(['2018-11-04T00:00:00.000000000', '2018-11-11T00:00:00.000000000',\n",
       "       '2018-11-18T00:00:00.000000000', '2018-11-25T00:00:00.000000000',\n",
       "       '2018-12-02T00:00:00.000000000', '2018-12-09T00:00:00.000000000',\n",
       "       '2018-12-16T00:00:00.000000000', '2018-12-23T00:00:00.000000000',\n",
       "       '2018-12-30T00:00:00.000000000', '2019-01-06T00:00:00.000000000',\n",
       "       '2019-01-13T00:00:00.000000000', '2019-01-20T00:00:00.000000000',\n",
       "       '2019-01-27T00:00:00.000000000', '2019-02-03T00:00:00.000000000',\n",
       "       '2019-02-10T00:00:00.000000000', '2019-02-17T00:00:00.000000000',\n",
       "       '2019-02-24T00:00:00.000000000', '2019-03-03T00:00:00.000000000',\n",
       "       '2019-03-10T00:00:00.000000000', '2019-03-17T00:00:00.000000000',\n",
       "       '2019-03-24T00:00:00.000000000', '2019-03-31T00:00:00.000000000',\n",
       "       '2019-04-07T00:00:00.000000000', '2019-04-14T00:00:00.000000000',\n",
       "       '2019-04-21T00:00:00.000000000', '2019-04-28T00:00:00.000000000',\n",
       "       '2019-05-05T00:00:00.000000000', '2019-05-12T00:00:00.000000000',\n",
       "       '2019-05-19T00:00:00.000000000', '2019-05-26T00:00:00.000000000',\n",
       "       '2019-06-02T00:00:00.000000000', '2019-06-09T00:00:00.000000000',\n",
       "       '2019-06-16T00:00:00.000000000', '2019-06-23T00:00:00.000000000',\n",
       "       '2019-06-30T00:00:00.000000000', '2019-07-07T00:00:00.000000000',\n",
       "       '2019-07-14T00:00:00.000000000', '2019-07-21T00:00:00.000000000',\n",
       "       '2019-07-28T00:00:00.000000000', '2019-08-04T00:00:00.000000000',\n",
       "       '2019-08-11T00:00:00.000000000', '2019-08-18T00:00:00.000000000',\n",
       "       '2019-08-25T00:00:00.000000000', '2019-09-01T00:00:00.000000000',\n",
       "       '2019-09-08T00:00:00.000000000', '2019-09-15T00:00:00.000000000',\n",
       "       '2019-09-22T00:00:00.000000000', '2019-09-29T00:00:00.000000000',\n",
       "       '2019-10-06T00:00:00.000000000', '2019-10-13T00:00:00.000000000',\n",
       "       '2019-10-20T00:00:00.000000000', '2019-10-27T00:00:00.000000000',\n",
       "       '2019-11-03T00:00:00.000000000', '2019-11-10T00:00:00.000000000',\n",
       "       '2019-11-17T00:00:00.000000000', '2019-11-24T00:00:00.000000000',\n",
       "       '2019-12-01T00:00:00.000000000'], dtype='datetime64[ns]')"
      ]
     },
     "execution_count": 31,
     "metadata": {},
     "output_type": "execute_result"
    }
   ],
   "source": [
    "rg"
   ]
  }
 ],
 "metadata": {
  "kernelspec": {
   "display_name": "Python 3",
   "language": "python",
   "name": "python3"
  },
  "language_info": {
   "codemirror_mode": {
    "name": "ipython",
    "version": 3
   },
   "file_extension": ".py",
   "mimetype": "text/x-python",
   "name": "python",
   "nbconvert_exporter": "python",
   "pygments_lexer": "ipython3",
   "version": "3.7.6"
  }
 },
 "nbformat": 4,
 "nbformat_minor": 2
}
