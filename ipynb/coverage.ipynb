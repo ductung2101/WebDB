{
 "cells": [
  {
   "cell_type": "code",
   "execution_count": 1,
   "metadata": {},
   "outputs": [],
   "source": [
    "import numpy as np\n",
    "import pandas as pd\n",
    "import requests\n",
    "import sqlite3\n",
    "from pathlib import Path\n"
   ]
  },
  {
   "cell_type": "code",
   "execution_count": 2,
   "metadata": {},
   "outputs": [],
   "source": [
    "polling = pd.read_csv(\"../president_primary_polls.csv\")\n"
   ]
  },
  {
   "cell_type": "code",
   "execution_count": 23,
   "metadata": {},
   "outputs": [
    {
     "data": {
      "text/plain": [
       "<function numpy.sort(a, axis=-1, kind=None, order=None)>"
      ]
     },
     "execution_count": 23,
     "metadata": {},
     "output_type": "execute_result"
    }
   ],
   "source": [
    "np.sort"
   ]
  },
  {
   "cell_type": "code",
   "execution_count": 22,
   "metadata": {},
   "outputs": [
    {
     "ename": "SyntaxError",
     "evalue": "invalid syntax (<ipython-input-22-53b3fbddf096>, line 1)",
     "output_type": "error",
     "traceback": [
      "\u001b[0;36m  File \u001b[0;32m\"<ipython-input-22-53b3fbddf096>\"\u001b[0;36m, line \u001b[0;32m1\u001b[0m\n\u001b[0;31m    zip(polling[\"state\"].unique() list(map(lambda x: \"National\" if x != x else x, polling[\"state\"].unique())))\u001b[0m\n\u001b[0m                                     ^\u001b[0m\n\u001b[0;31mSyntaxError\u001b[0m\u001b[0;31m:\u001b[0m invalid syntax\n"
     ]
    }
   ],
   "source": [
    "polling[\"state\"].unique() list(map(lambda x: \"National\" if x != x else x, polling[\"state\"].unique()))"
   ]
  },
  {
   "cell_type": "code",
   "execution_count": 19,
   "metadata": {},
   "outputs": [
    {
     "data": {
      "text/plain": [
       "False"
      ]
     },
     "execution_count": 19,
     "metadata": {},
     "output_type": "execute_result"
    }
   ],
   "source": [
    "polling[\"state\"][0] == polling[\"state\"][0]"
   ]
  },
  {
   "cell_type": "code",
   "execution_count": 14,
   "metadata": {},
   "outputs": [],
   "source": [
    "url = 'https://projects.fivethirtyeight.com/polls-page/president_primary_polls.csv'\n",
    "r = requests.get(url, allow_redirects=True)"
   ]
  },
  {
   "cell_type": "code",
   "execution_count": null,
   "metadata": {},
   "outputs": [],
   "source": [
    "# r.content\n",
    "from io import StringIO\n",
    "temp = pd.read_csv(StringIO(str(r.content)))"
   ]
  },
  {
   "cell_type": "code",
   "execution_count": null,
   "metadata": {},
   "outputs": [],
   "source": [
    "temp"
   ]
  },
  {
   "cell_type": "code",
   "execution_count": 9,
   "metadata": {},
   "outputs": [],
   "source": [
    "polling_subset = polling[polling[\"party\"] == \"DEM\"]\n",
    "polling[\"create_date\"] = pd.to_datetime(polling[\"created_at\"], infer_datetime_format=True)\n",
    "polling[\"create_date\"]\n",
    "polling[\"create_week\"] = (polling['create_date'] - pd.to_timedelta(polling['create_date'].dt.dayofweek, unit='d')\n",
    "                          + np.timedelta64(7, 'D')).dt.normalize()                                                             \n",
    "polling_subset = polling[polling[\"party\"] == \"DEM\"]\n",
    "df_pivot = polling[polling[\"party\"] == \"DEM\"].pivot_table(values=\"pct\", index=\"create_week\", columns=\"answer\",\n",
    "                                                          aggfunc=np.mean).fillna(0).iloc[-7:]\n",
    "candidates = polling_subset[\"answer\"].unique()\n"
   ]
  },
  {
   "cell_type": "code",
   "execution_count": 12,
   "metadata": {},
   "outputs": [
    {
     "data": {
      "text/html": [
       "<div>\n",
       "<style scoped>\n",
       "    .dataframe tbody tr th:only-of-type {\n",
       "        vertical-align: middle;\n",
       "    }\n",
       "\n",
       "    .dataframe tbody tr th {\n",
       "        vertical-align: top;\n",
       "    }\n",
       "\n",
       "    .dataframe thead th {\n",
       "        text-align: right;\n",
       "    }\n",
       "</style>\n",
       "<table border=\"1\" class=\"dataframe\">\n",
       "  <thead>\n",
       "    <tr style=\"text-align: right;\">\n",
       "      <th></th>\n",
       "      <th>answer</th>\n",
       "      <th>candidate_id</th>\n",
       "    </tr>\n",
       "  </thead>\n",
       "  <tbody>\n",
       "    <tr>\n",
       "      <th>3</th>\n",
       "      <td>Booker</td>\n",
       "      <td>13287</td>\n",
       "    </tr>\n",
       "    <tr>\n",
       "      <th>4</th>\n",
       "      <td>Biden</td>\n",
       "      <td>13256</td>\n",
       "    </tr>\n",
       "    <tr>\n",
       "      <th>5</th>\n",
       "      <td>Sanders</td>\n",
       "      <td>13257</td>\n",
       "    </tr>\n",
       "    <tr>\n",
       "      <th>6</th>\n",
       "      <td>Warren</td>\n",
       "      <td>13258</td>\n",
       "    </tr>\n",
       "    <tr>\n",
       "      <th>7</th>\n",
       "      <td>Buttigieg</td>\n",
       "      <td>13345</td>\n",
       "    </tr>\n",
       "    <tr>\n",
       "      <th>...</th>\n",
       "      <td>...</td>\n",
       "      <td>...</td>\n",
       "    </tr>\n",
       "    <tr>\n",
       "      <th>13754</th>\n",
       "      <td>Sanders</td>\n",
       "      <td>13257</td>\n",
       "    </tr>\n",
       "    <tr>\n",
       "      <th>13755</th>\n",
       "      <td>Booker</td>\n",
       "      <td>13287</td>\n",
       "    </tr>\n",
       "    <tr>\n",
       "      <th>13756</th>\n",
       "      <td>Harris</td>\n",
       "      <td>13288</td>\n",
       "    </tr>\n",
       "    <tr>\n",
       "      <th>13757</th>\n",
       "      <td>Bloomberg</td>\n",
       "      <td>13289</td>\n",
       "    </tr>\n",
       "    <tr>\n",
       "      <th>13758</th>\n",
       "      <td>Clinton</td>\n",
       "      <td>13290</td>\n",
       "    </tr>\n",
       "  </tbody>\n",
       "</table>\n",
       "<p>13121 rows × 2 columns</p>\n",
       "</div>"
      ],
      "text/plain": [
       "          answer  candidate_id\n",
       "3         Booker         13287\n",
       "4          Biden         13256\n",
       "5        Sanders         13257\n",
       "6         Warren         13258\n",
       "7      Buttigieg         13345\n",
       "...          ...           ...\n",
       "13754    Sanders         13257\n",
       "13755     Booker         13287\n",
       "13756     Harris         13288\n",
       "13757  Bloomberg         13289\n",
       "13758    Clinton         13290\n",
       "\n",
       "[13121 rows x 2 columns]"
      ]
     },
     "execution_count": 12,
     "metadata": {},
     "output_type": "execute_result"
    }
   ],
   "source": [
    "polling_subset[[\"answer\", \"candidate_id\"]]"
   ]
  },
  {
   "cell_type": "code",
   "execution_count": 7,
   "metadata": {},
   "outputs": [
    {
     "name": "stdout",
     "output_type": "stream",
     "text": [
      "Booker\n",
      "Biden\n",
      "Sanders\n",
      "Warren\n",
      "Buttigieg\n",
      "Harris\n",
      "Yang\n",
      "Bloomberg\n",
      "Castro\n",
      "Klobuchar\n",
      "Gabbard\n",
      "Steyer\n",
      "Delaney\n",
      "Sestak\n",
      "Williamson\n",
      "Bullock\n",
      "Bennet\n",
      "O'Rourke\n",
      "Ryan\n"
     ]
    }
   ],
   "source": [
    "can_selected = []\n",
    "for can in candidates:\n",
    "    if (df_pivot[can] == 0).mean() < 0.5 and df_pivot[can].mean() > 0.1:\n",
    "        print(can)\n",
    "        can_selected.append(can)\n"
   ]
  },
  {
   "cell_type": "code",
   "execution_count": 6,
   "metadata": {},
   "outputs": [
    {
     "name": "stdout",
     "output_type": "stream",
     "text": [
      "Beginning file download with requests\n"
     ]
    },
    {
     "ename": "FileNotFoundError",
     "evalue": "[Errno 2] No such file or directory: '../candidates_coverage/Booker.csv'",
     "output_type": "error",
     "traceback": [
      "\u001b[0;31m---------------------------------------------------------------------------\u001b[0m",
      "\u001b[0;31mFileNotFoundError\u001b[0m                         Traceback (most recent call last)",
      "\u001b[0;32m<ipython-input-6-6e93a2be3093>\u001b[0m in \u001b[0;36m<module>\u001b[0;34m\u001b[0m\n\u001b[1;32m      8\u001b[0m     \u001b[0mr\u001b[0m \u001b[0;34m=\u001b[0m \u001b[0mrequests\u001b[0m\u001b[0;34m.\u001b[0m\u001b[0mget\u001b[0m\u001b[0;34m(\u001b[0m\u001b[0murl\u001b[0m\u001b[0;34m)\u001b[0m\u001b[0;34m\u001b[0m\u001b[0;34m\u001b[0m\u001b[0m\n\u001b[1;32m      9\u001b[0m \u001b[0;34m\u001b[0m\u001b[0m\n\u001b[0;32m---> 10\u001b[0;31m     \u001b[0;32mwith\u001b[0m \u001b[0mopen\u001b[0m\u001b[0;34m(\u001b[0m\u001b[0;34m'../candidates_coverage/'\u001b[0m \u001b[0;34m+\u001b[0m \u001b[0mcan\u001b[0m \u001b[0;34m+\u001b[0m \u001b[0;34m'.csv'\u001b[0m\u001b[0;34m,\u001b[0m \u001b[0;34m'wb'\u001b[0m\u001b[0;34m)\u001b[0m \u001b[0;32mas\u001b[0m \u001b[0mf\u001b[0m\u001b[0;34m:\u001b[0m\u001b[0;34m\u001b[0m\u001b[0;34m\u001b[0m\u001b[0m\n\u001b[0m\u001b[1;32m     11\u001b[0m         \u001b[0mf\u001b[0m\u001b[0;34m.\u001b[0m\u001b[0mwrite\u001b[0m\u001b[0;34m(\u001b[0m\u001b[0mr\u001b[0m\u001b[0;34m.\u001b[0m\u001b[0mcontent\u001b[0m\u001b[0;34m)\u001b[0m\u001b[0;34m\u001b[0m\u001b[0;34m\u001b[0m\u001b[0m\n\u001b[1;32m     12\u001b[0m \u001b[0;34m\u001b[0m\u001b[0m\n",
      "\u001b[0;31mFileNotFoundError\u001b[0m: [Errno 2] No such file or directory: '../candidates_coverage/Booker.csv'"
     ]
    }
   ],
   "source": [
    "print('Beginning file download with requests')\n",
    "\n",
    "for can in can_selected:\n",
    "    url = 'https://api.gdeltproject.org/api/v2/tv/tv?query=\"' + can + '\"%20market:%22National%22&mode=timelinevol&format' \\\n",
    "                                                                      '=csv&datanorm=perc&dateres=week&timelinesmooth=0' \\\n",
    "                                                                      '&datacomb=sep' \\\n",
    "                                                                      '&last24=yes&timezoom=yes '\n",
    "    r = requests.get(url)\n",
    "\n",
    "    with open('../candidates_coverage/' + can + '.csv', 'wb') as f:\n",
    "        f.write(r.content)\n",
    "\n",
    "    print(url)\n",
    "    print(r.status_code)\n",
    "    print(r.headers['content-type'])\n",
    "    print(r.encoding)\n"
   ]
  },
  {
   "cell_type": "code",
   "execution_count": 73,
   "metadata": {},
   "outputs": [],
   "source": [
    "source_files = sorted(Path('../candidates_coverage').glob('*.csv'))\n",
    "\n",
    "dataframes = []\n",
    "for file in source_files:\n",
    "    df = pd.read_csv(file)\n",
    "    df['Candidate'] = file.name.replace(\".csv\", \"\")\n",
    "    dataframes.append(df)\n",
    "\n",
    "media_coverage = pd.concat(dataframes, sort=False)\n",
    "media_coverage.rename(columns={(media_coverage.columns[0]): 'Date'}, inplace=True)\n",
    "media_coverage['Date'] = pd.to_datetime(media_coverage['Date'])\n",
    "media_coverage.to_csv('C:\\\\Users\\\\User\\\\PycharmProjects\\\\WebDB\\\\polls\\\\media_coverage.csv')\n"
   ]
  },
  {
   "cell_type": "code",
   "execution_count": null,
   "metadata": {},
   "outputs": [],
   "source": [
    "polling_means = polling_subset.groupby(['answer', 'create_week'])['pct'].mean().reset_index()\n",
    "conn = sqlite3.connect(':memory:')\n",
    "media_coverage.to_sql('media_coverage', conn, index=False)\n",
    "polling_means.to_sql('polling_means', conn, index=False)\n",
    "qry = '''\n",
    "    SELECT *\n",
    "    FROM\n",
    "        polling_means JOIN media_coverage ON\n",
    "        Candidate = answer\n",
    "        AND create_week BETWEEN Date AND date(Date, '+7 day')\n",
    "    '''\n",
    "corr_data = pd.read_sql_query(qry, conn)\n",
    "# corr_data.to_csv('../polls/corr_data.csv')\n"
   ]
  }
 ],
 "metadata": {
  "kernelspec": {
   "display_name": "Python 3",
   "language": "python",
   "name": "python3"
  },
  "language_info": {
   "codemirror_mode": {
    "name": "ipython",
    "version": 3
   },
   "file_extension": ".py",
   "mimetype": "text/x-python",
   "name": "python",
   "nbconvert_exporter": "python",
   "pygments_lexer": "ipython3",
   "version": "3.7.6"
  }
 },
 "nbformat": 4,
 "nbformat_minor": 1
}
