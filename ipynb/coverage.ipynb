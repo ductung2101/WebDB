{
 "cells": [
  {
   "cell_type": "code",
   "execution_count": 66,
   "metadata": {
    "collapsed": true
   },
   "outputs": [],
   "source": [
    "import numpy as np\n",
    "import pandas as pd\n",
    "import requests\n",
    "import sqlite3\n",
    "from pathlib import Path\n"
   ]
  },
  {
   "cell_type": "code",
   "execution_count": 34,
   "metadata": {},
   "outputs": [],
   "source": [
    "polling = pd.read_csv(\"../president_primary_polls.csv\")\n"
   ]
  },
  {
   "cell_type": "code",
   "execution_count": 35,
   "metadata": {},
   "outputs": [],
   "source": [
    "polling_subset = polling[polling[\"party\"] == \"DEM\"]\n",
    "polling[\"create_date\"] = pd.to_datetime(polling[\"created_at\"], infer_datetime_format=True)\n",
    "polling[\"create_date\"]\n",
    "polling[\"create_week\"] = (polling['create_date'] - pd.to_timedelta(polling['create_date'].dt.dayofweek, unit='d')\n",
    "                          + np.timedelta64(7, 'D')).dt.normalize()                                                             \n",
    "polling_subset = polling[polling[\"party\"] == \"DEM\"]\n",
    "df_pivot = polling[polling[\"party\"] == \"DEM\"].pivot_table(values=\"pct\", index=\"create_week\", columns=\"answer\",\n",
    "                                                          aggfunc=np.mean).fillna(0).iloc[-7:]\n",
    "candidates = polling_subset[\"answer\"].unique()\n"
   ]
  },
  {
   "cell_type": "code",
   "execution_count": 7,
   "metadata": {},
   "outputs": [
    {
     "name": "stdout",
     "output_type": "stream",
     "text": [
      "Booker\nBiden\nSanders\nWarren\nButtigieg\nHarris\nYang\nBloomberg\nCastro\nKlobuchar\nGabbard\nSteyer\nDelaney\nSestak\nWilliamson\nBullock\nBennet\nO'Rourke\nRyan\n"
     ]
    }
   ],
   "source": [
    "can_selected = []\n",
    "for can in candidates:\n",
    "    if (df_pivot[can] == 0).mean() < 0.5 and df_pivot[can].mean() > 0.1:\n",
    "        print(can)\n",
    "        can_selected.append(can)\n"
   ]
  },
  {
   "cell_type": "code",
   "execution_count": 14,
   "metadata": {
    "collapsed": true
   },
   "outputs": [
    {
     "name": "stdout",
     "output_type": "stream",
     "text": [
      "Beginning file download with requests\n"
     ]
    },
    {
     "name": "stdout",
     "output_type": "stream",
     "text": [
      "https://api.gdeltproject.org/api/v2/tv/tv?query=\"Booker\"%20market:%22National%22&mode=timelinevol&format=csv&datanorm=perc&dateres=week&timelinesmooth=0&datacomb=sep&last24=yes&timezoom=yes \n200\ntext/csv; charset=utf-8\nutf-8\n"
     ]
    },
    {
     "name": "stdout",
     "output_type": "stream",
     "text": [
      "https://api.gdeltproject.org/api/v2/tv/tv?query=\"Biden\"%20market:%22National%22&mode=timelinevol&format=csv&datanorm=perc&dateres=week&timelinesmooth=0&datacomb=sep&last24=yes&timezoom=yes \n200\ntext/csv; charset=utf-8\nutf-8\n"
     ]
    },
    {
     "name": "stdout",
     "output_type": "stream",
     "text": [
      "https://api.gdeltproject.org/api/v2/tv/tv?query=\"Sanders\"%20market:%22National%22&mode=timelinevol&format=csv&datanorm=perc&dateres=week&timelinesmooth=0&datacomb=sep&last24=yes&timezoom=yes \n200\ntext/csv; charset=utf-8\nutf-8\n"
     ]
    },
    {
     "name": "stdout",
     "output_type": "stream",
     "text": [
      "https://api.gdeltproject.org/api/v2/tv/tv?query=\"Warren\"%20market:%22National%22&mode=timelinevol&format=csv&datanorm=perc&dateres=week&timelinesmooth=0&datacomb=sep&last24=yes&timezoom=yes \n200\ntext/csv; charset=utf-8\nutf-8\n"
     ]
    },
    {
     "name": "stdout",
     "output_type": "stream",
     "text": [
      "https://api.gdeltproject.org/api/v2/tv/tv?query=\"Buttigieg\"%20market:%22National%22&mode=timelinevol&format=csv&datanorm=perc&dateres=week&timelinesmooth=0&datacomb=sep&last24=yes&timezoom=yes \n200\ntext/csv; charset=utf-8\nutf-8\n"
     ]
    },
    {
     "name": "stdout",
     "output_type": "stream",
     "text": [
      "https://api.gdeltproject.org/api/v2/tv/tv?query=\"Harris\"%20market:%22National%22&mode=timelinevol&format=csv&datanorm=perc&dateres=week&timelinesmooth=0&datacomb=sep&last24=yes&timezoom=yes \n200\ntext/csv; charset=utf-8\nutf-8\n"
     ]
    },
    {
     "name": "stdout",
     "output_type": "stream",
     "text": [
      "https://api.gdeltproject.org/api/v2/tv/tv?query=\"Yang\"%20market:%22National%22&mode=timelinevol&format=csv&datanorm=perc&dateres=week&timelinesmooth=0&datacomb=sep&last24=yes&timezoom=yes \n200\ntext/csv; charset=utf-8\nutf-8\n"
     ]
    },
    {
     "name": "stdout",
     "output_type": "stream",
     "text": [
      "https://api.gdeltproject.org/api/v2/tv/tv?query=\"Bloomberg\"%20market:%22National%22&mode=timelinevol&format=csv&datanorm=perc&dateres=week&timelinesmooth=0&datacomb=sep&last24=yes&timezoom=yes \n200\ntext/csv; charset=utf-8\nutf-8\n"
     ]
    },
    {
     "name": "stdout",
     "output_type": "stream",
     "text": [
      "https://api.gdeltproject.org/api/v2/tv/tv?query=\"Castro\"%20market:%22National%22&mode=timelinevol&format=csv&datanorm=perc&dateres=week&timelinesmooth=0&datacomb=sep&last24=yes&timezoom=yes \n200\ntext/csv; charset=utf-8\nutf-8\n"
     ]
    },
    {
     "name": "stdout",
     "output_type": "stream",
     "text": [
      "https://api.gdeltproject.org/api/v2/tv/tv?query=\"Klobuchar\"%20market:%22National%22&mode=timelinevol&format=csv&datanorm=perc&dateres=week&timelinesmooth=0&datacomb=sep&last24=yes&timezoom=yes \n200\ntext/csv; charset=utf-8\nutf-8\n"
     ]
    },
    {
     "name": "stdout",
     "output_type": "stream",
     "text": [
      "https://api.gdeltproject.org/api/v2/tv/tv?query=\"Gabbard\"%20market:%22National%22&mode=timelinevol&format=csv&datanorm=perc&dateres=week&timelinesmooth=0&datacomb=sep&last24=yes&timezoom=yes \n200\ntext/csv; charset=utf-8\nutf-8\n"
     ]
    },
    {
     "name": "stdout",
     "output_type": "stream",
     "text": [
      "https://api.gdeltproject.org/api/v2/tv/tv?query=\"Steyer\"%20market:%22National%22&mode=timelinevol&format=csv&datanorm=perc&dateres=week&timelinesmooth=0&datacomb=sep&last24=yes&timezoom=yes \n200\ntext/csv; charset=utf-8\nutf-8\n"
     ]
    },
    {
     "name": "stdout",
     "output_type": "stream",
     "text": [
      "https://api.gdeltproject.org/api/v2/tv/tv?query=\"Delaney\"%20market:%22National%22&mode=timelinevol&format=csv&datanorm=perc&dateres=week&timelinesmooth=0&datacomb=sep&last24=yes&timezoom=yes \n200\ntext/csv; charset=utf-8\nutf-8\n"
     ]
    },
    {
     "name": "stdout",
     "output_type": "stream",
     "text": [
      "https://api.gdeltproject.org/api/v2/tv/tv?query=\"Sestak\"%20market:%22National%22&mode=timelinevol&format=csv&datanorm=perc&dateres=week&timelinesmooth=0&datacomb=sep&last24=yes&timezoom=yes \n200\ntext/csv; charset=utf-8\nutf-8\n"
     ]
    },
    {
     "name": "stdout",
     "output_type": "stream",
     "text": [
      "https://api.gdeltproject.org/api/v2/tv/tv?query=\"Williamson\"%20market:%22National%22&mode=timelinevol&format=csv&datanorm=perc&dateres=week&timelinesmooth=0&datacomb=sep&last24=yes&timezoom=yes \n200\ntext/csv; charset=utf-8\nutf-8\n"
     ]
    },
    {
     "name": "stdout",
     "output_type": "stream",
     "text": [
      "https://api.gdeltproject.org/api/v2/tv/tv?query=\"Bullock\"%20market:%22National%22&mode=timelinevol&format=csv&datanorm=perc&dateres=week&timelinesmooth=0&datacomb=sep&last24=yes&timezoom=yes \n200\ntext/csv; charset=utf-8\nutf-8\n"
     ]
    },
    {
     "name": "stdout",
     "output_type": "stream",
     "text": [
      "https://api.gdeltproject.org/api/v2/tv/tv?query=\"Bennet\"%20market:%22National%22&mode=timelinevol&format=csv&datanorm=perc&dateres=week&timelinesmooth=0&datacomb=sep&last24=yes&timezoom=yes \n200\ntext/csv; charset=utf-8\nutf-8\n"
     ]
    },
    {
     "name": "stdout",
     "output_type": "stream",
     "text": [
      "https://api.gdeltproject.org/api/v2/tv/tv?query=\"O'Rourke\"%20market:%22National%22&mode=timelinevol&format=csv&datanorm=perc&dateres=week&timelinesmooth=0&datacomb=sep&last24=yes&timezoom=yes \n200\ntext/csv; charset=utf-8\nutf-8\n"
     ]
    },
    {
     "name": "stdout",
     "output_type": "stream",
     "text": [
      "https://api.gdeltproject.org/api/v2/tv/tv?query=\"Ryan\"%20market:%22National%22&mode=timelinevol&format=csv&datanorm=perc&dateres=week&timelinesmooth=0&datacomb=sep&last24=yes&timezoom=yes \n200\ntext/csv; charset=utf-8\nutf-8\n"
     ]
    }
   ],
   "source": [
    "print('Beginning file download with requests')\n",
    "\n",
    "for can in can_selected:\n",
    "    url = 'https://api.gdeltproject.org/api/v2/tv/tv?query=\"' + can + '\"%20market:%22National%22&mode=timelinevol&format' \\\n",
    "                                                                      '=csv&datanorm=perc&dateres=week&timelinesmooth=0' \\\n",
    "                                                                      '&datacomb=sep' \\\n",
    "                                                                      '&last24=yes&timezoom=yes '\n",
    "    r = requests.get(url)\n",
    "\n",
    "    with open('../candidates_coverage/' + can + '.csv', 'wb') as f:\n",
    "        f.write(r.content)\n",
    "\n",
    "    print(url)\n",
    "    print(r.status_code)\n",
    "    print(r.headers['content-type'])\n",
    "    print(r.encoding)\n"
   ]
  },
  {
   "cell_type": "code",
   "execution_count": 73,
   "metadata": {},
   "outputs": [],
   "source": [
    "source_files = sorted(Path('../candidates_coverage').glob('*.csv'))\n",
    "\n",
    "dataframes = []\n",
    "for file in source_files:\n",
    "    df = pd.read_csv(file)\n",
    "    df['Candidate'] = file.name.replace(\".csv\", \"\")\n",
    "    dataframes.append(df)\n",
    "\n",
    "media_coverage = pd.concat(dataframes, sort=False)\n",
    "media_coverage.rename(columns={(media_coverage.columns[0]): 'Date'}, inplace=True)\n",
    "media_coverage['Date'] = pd.to_datetime(media_coverage['Date'])\n",
    "media_coverage.to_csv('C:\\\\Users\\\\User\\\\PycharmProjects\\\\WebDB\\\\polls\\\\media_coverage.csv')\n"
   ]
  },
  {
   "cell_type": "code",
   "execution_count": null,
   "metadata": {},
   "outputs": [],
   "source": [
    "polling_means = polling_subset.groupby(['answer', 'create_week'])['pct'].mean().reset_index()\n",
    "conn = sqlite3.connect(':memory:')\n",
    "media_coverage.to_sql('media_coverage', conn, index=False)\n",
    "polling_means.to_sql('polling_means', conn, index=False)\n",
    "qry = '''\n",
    "    SELECT *\n",
    "    FROM\n",
    "        polling_means JOIN media_coverage ON\n",
    "        Candidate = answer\n",
    "        AND create_week BETWEEN Date AND date(Date, '+7 day')\n",
    "    '''\n",
    "corr_data = pd.read_sql_query(qry, conn)\n",
    "corr_data.to_csv('../polls/corr_data.csv')\n"
   ]
  }
 ],
 "metadata": {
  "kernelspec": {
   "display_name": "Python 2",
   "language": "python",
   "name": "python2"
  },
  "language_info": {
   "codemirror_mode": {
    "name": "ipython",
    "version": 2
   },
   "file_extension": ".py",
   "mimetype": "text/x-python",
   "name": "python",
   "nbconvert_exporter": "python",
   "pygments_lexer": "ipython2",
   "version": "2.7.6"
  }
 },
 "nbformat": 4,
 "nbformat_minor": 0
}
